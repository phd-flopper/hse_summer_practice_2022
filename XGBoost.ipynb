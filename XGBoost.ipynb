{
 "cells": [
  {
   "cell_type": "markdown",
   "id": "3e4a11ed",
   "metadata": {},
   "source": [
    "$$\\Huge{\\textbf{Введение}}$$"
   ]
  },
  {
   "cell_type": "markdown",
   "id": "5a8985c1",
   "metadata": {},
   "source": [
    "Работа основана на исследовании студента 181 группы Андреева Никиты Михайловича и представляет из себя набор дополнительных экспериментов на основе его курсовой работы."
   ]
  },
  {
   "cell_type": "markdown",
   "id": "a969b339",
   "metadata": {},
   "source": [
    "В своём исследовании Никита Михайлович реализовал и протестировал новую эффективную модель ($\\href{https://github.com/nikich28/ecg}{\\text{github}}$) которая выявляет фибрилляцию предсердий с высокой точностью. Однако, задача бинарной классификации предполагалась сбалансированной, что вообще говоря полностью корректно для выявления фибрилляции предсердий у пожилых людей, но может давать менее точные прогнозы для молодых (меньше 40 лет) людей, так как в таком случае процент больных не превосходит нескольких процентов от всей популяции ($\\href{https://www.hindawi.com/journals/nri/2015/374352/}{статья}$), а значит, имеет смысл рассмотреть и несбалансированный случай."
   ]
  },
  {
   "cell_type": "markdown",
   "id": "9d1d08bb",
   "metadata": {},
   "source": [
    "В курсовой работе Никиты Михайловича в качестве набора данных используется только датасет $\\href{https://physionet.org/content/afdb/1.0.0/}{\\text{MIT-BIH Atrial Fibrillation Database}}$. В данной работе так же будут использоваться синтетические данные для имитации несбалансированности данных."
   ]
  },
  {
   "cell_type": "markdown",
   "id": "1cfc6d7e",
   "metadata": {},
   "source": [
    "$$\\Huge{\\textbf{Предварительная обработка данных}}$$"
   ]
  },
  {
   "cell_type": "markdown",
   "id": "d1c5baff",
   "metadata": {},
   "source": [
    "Предварительная обработка данных в нашем случае будет совпадать (почти совпадать*) с подходом Никиты Михайловича. ВЕСЬ код этого раздела взят $\\href{https://github.com/nikich28/ecg}{\\text{отсюда}}$."
   ]
  },
  {
   "cell_type": "code",
   "execution_count": 378,
   "id": "c05da688",
   "metadata": {},
   "outputs": [],
   "source": [
    "from utils import ecg_processing\n",
    "import wfdb\n",
    "import os\n",
    "import sys\n",
    "import logging\n",
    "import pickle\n",
    "import numpy as np\n",
    "import pandas as pd\n",
    "import utils.alphabet as alphabet\n",
    "from tqdm.auto import tqdm\n",
    "from IPython.display import clear_output\n",
    "from sklearn.model_selection import KFold\n",
    "from sklearn.model_selection import GridSearchCV\n",
    "from sklearn.metrics import roc_auc_score, accuracy_score, recall_score, matthews_corrcoef\n",
    "import utils.ecg_record as ecg_record\n",
    "import yaml\n",
    "from xgboost import XGBClassifier\n",
    "import matplotlib.pyplot as plt\n",
    "import seaborn as sns\n",
    "sns.set(style='whitegrid')\n",
    "pd.set_option('display.max_rows', 100)\n",
    "pd.set_option('display.max_columns', 100)\n",
    "\n",
    "class ECGWindow:\n",
    "\n",
    "    def __init__(self, peaks_window):\n",
    "        peaks_window, label = peaks_window\n",
    "        self.label = label\n",
    "        self.heart_rate_window =\\\n",
    "            ecg_processing.get_rate_window(peaks_window)\n",
    "        self.changes_window =\\\n",
    "            ecg_processing.get_changes_window(self.heart_rate_window)\n",
    "\n",
    "        self.alphabet_encoding = []\n",
    "        self.ngramms_count = {}\n",
    "        self.ngramms_idf = {}\n",
    "\n",
    "        self.mean_hr = self.heart_rate_window.mean()\n",
    "        self.median_hr = np.median(self.heart_rate_window)\n",
    "        self.variance_hr = self.heart_rate_window.var()\n",
    "\n",
    "        self.mean_ch = self.changes_window.mean()\n",
    "        self.variance_ch = self.changes_window.var()\n",
    "        self.median_ch = np.median(self.changes_window)\n",
    "        self.mean_abs_ch = np.mean(np.abs(self.changes_window))\n",
    "        self.max_ch = np.max(self.changes_window)\n",
    "        self.min_ch = np.min(self.changes_window)\n",
    "        self.sum_ch_abs = np.sum(self.changes_window)\n",
    "\n",
    "    def dict(self):\n",
    "        dict_ = {\"mean_hr\": self.mean_hr,\n",
    "                 \"median_hr\": self.median_hr,\n",
    "                 \"variance_hr\": self.variance_hr,\n",
    "                 \"mean_ch\": self.mean_ch,\n",
    "                 \"variance_ch\": self.variance_ch,\n",
    "                 \"median_ch\": self.median_ch,\n",
    "                 \"mean_abs_ch\": self.mean_abs_ch,\n",
    "                 \"max_ch\": self.max_ch,\n",
    "                 \"min_ch\": self.min_ch,\n",
    "                 \"sum_ch_abs\": self.sum_ch_abs,\n",
    "                 \"label\": self.label\n",
    "                }\n",
    "        if len(self.ngramms_idf) > 0:\n",
    "            source_ngramms = self.ngramms_idf\n",
    "        else:\n",
    "            source_ngramms = self.ngramms_count\n",
    "\n",
    "        ngramms = {\"\".join(n_gramm): source_ngramms[n_gramm]\n",
    "                   for n_gramm in source_ngramms}\n",
    "\n",
    "        dict_ = {**dict_, **ngramms}\n",
    "\n",
    "        return dict_\n",
    "\n",
    "    def prepare_alphabet(self, alphabet_threshold):\n",
    "        self.alphabet_encoding = alphabet.get_alphabet_encoding(self.changes_window, alphabet_threshold)\n",
    "\n",
    "    def normalize_ngramms(self, idf):\n",
    "        norm = 0\n",
    "        for ngramm in self.ngramms_count:\n",
    "            self.ngramms_idf[ngramm] =\\\n",
    "                self.ngramms_count[ngramm] * idf[ngramm]\n",
    "            norm += self.ngramms_idf[ngramm] ** 2\n",
    "        norm = norm ** 0.5\n",
    "        for ngramm in self.ngramms_idf:\n",
    "            self.ngramms_idf[ngramm] /= norm\n",
    "\n",
    "\n",
    "class ECGRPeaksRecord:\n",
    "\n",
    "    def __init__(self, name, database):\n",
    "\n",
    "        self.name = name\n",
    "        self.database = database\n",
    "        self.rr_peaks = None\n",
    "        self.annotation = None\n",
    "        self.windows = None\n",
    "\n",
    "    def download(self):\n",
    "        record = wfdb.rdrecord(f'files/{self.name}', channels=[0])\n",
    "\n",
    "        self.annotation = wfdb.io.rdann(f'files/{self.name}', extension='atr')\n",
    "\n",
    "        self.rr_peaks, discarded_count = \\\n",
    "            ecg_processing.get_rr_peaks_indices(record)\n",
    "\n",
    "    def generate_windows(self, windows_size):\n",
    "        peaks_windows = ecg_processing.produce_peaks_windows(\n",
    "            self.rr_peaks,\n",
    "            windows_size,\n",
    "            self.annotation\n",
    "        )\n",
    "        windows = [ECGWindow(p) for p in peaks_windows]\n",
    "        return windows, peaks_windows\n",
    "\n",
    "\n",
    "def download_database(\n",
    "        data_folder,\n",
    "        database='afdb',\n",
    "        ):\n",
    "    records = [ECGRPeaksRecord(r, database)\n",
    "               for r in wfdb.get_record_list(database)]\n",
    "    logging.info(\"saving records\")\n",
    "    for r in tqdm(records):\n",
    "        try:\n",
    "            r.download()\n",
    "        except Exception:\n",
    "            exc_type, _, traceback = sys.exc_info()\n",
    "            logging.info(\"failed to download record:{};\\n\"\n",
    "                         \"Exception:{}\\nTraceback:{}\\n\\n\".\n",
    "                         format(r.name, exc_type, traceback)\n",
    "                         )\n",
    "            continue\n",
    "        path_to_record = os.path.join(data_folder, r.name)\n",
    "        with open(path_to_record, \"wb\") as f:\n",
    "            pickle.dump(r, f)\n",
    "\n",
    "\n",
    "def restore_records(data_folder):\n",
    "    files = os.listdir(data_folder)\n",
    "    files = [os.path.join(data_folder, f) for f in files]\n",
    "    records = []\n",
    "    for fpath in tqdm(files):\n",
    "        with open(fpath, 'rb') as f:\n",
    "            records.append(pickle.load(f))\n",
    "\n",
    "    return records\n",
    "\n",
    "\n",
    "def build_windows_dataset(records_folder, windows_size):\n",
    "    records = restore_records(records_folder)\n",
    "    windows = dict()\n",
    "    data_ = []\n",
    "    for record in tqdm(records):\n",
    "        a, b = record.generate_windows(windows_size)\n",
    "        windows[record.name] = a\n",
    "        data_ += b\n",
    "        #print(\"Record number:\", record.name, \"end of the record:\", len(data_))\n",
    "    new_data = []\n",
    "    for d in tqdm(data_):\n",
    "        new_data.append(d[0] + [d[1]])\n",
    "    new_data = pd.DataFrame(new_data)\n",
    "    new_data.to_csv(\"C:/Users/alexm/Desktop/new_data1\")\n",
    "    return windows"
   ]
  },
  {
   "cell_type": "code",
   "execution_count": 4,
   "id": "7bf5a29c",
   "metadata": {},
   "outputs": [
    {
     "data": {
      "application/vnd.jupyter.widget-view+json": {
       "model_id": "53dc35abb0c54dff99686bd063c54883",
       "version_major": 2,
       "version_minor": 0
      },
      "text/plain": [
       "  0%|          | 0/25 [00:00<?, ?it/s]"
      ]
     },
     "metadata": {},
     "output_type": "display_data"
    }
   ],
   "source": [
    "download_database('files')"
   ]
  },
  {
   "cell_type": "code",
   "execution_count": 24,
   "id": "22a1e9d6",
   "metadata": {
    "scrolled": true
   },
   "outputs": [],
   "source": [
    "windows = build_windows_dataset('files/tmp', 32)\n",
    "clear_output()"
   ]
  },
  {
   "cell_type": "code",
   "execution_count": 92,
   "id": "3d4e53e6",
   "metadata": {
    "scrolled": false
   },
   "outputs": [
    {
     "data": {
      "text/html": [
       "<div>\n",
       "<style scoped>\n",
       "    .dataframe tbody tr th:only-of-type {\n",
       "        vertical-align: middle;\n",
       "    }\n",
       "\n",
       "    .dataframe tbody tr th {\n",
       "        vertical-align: top;\n",
       "    }\n",
       "\n",
       "    .dataframe thead th {\n",
       "        text-align: right;\n",
       "    }\n",
       "</style>\n",
       "<table border=\"1\" class=\"dataframe\">\n",
       "  <thead>\n",
       "    <tr style=\"text-align: right;\">\n",
       "      <th></th>\n",
       "      <th>Unnamed: 0</th>\n",
       "      <th>0</th>\n",
       "      <th>1</th>\n",
       "      <th>2</th>\n",
       "      <th>3</th>\n",
       "      <th>4</th>\n",
       "      <th>5</th>\n",
       "      <th>6</th>\n",
       "      <th>7</th>\n",
       "      <th>8</th>\n",
       "      <th>...</th>\n",
       "      <th>23</th>\n",
       "      <th>24</th>\n",
       "      <th>25</th>\n",
       "      <th>26</th>\n",
       "      <th>27</th>\n",
       "      <th>28</th>\n",
       "      <th>29</th>\n",
       "      <th>30</th>\n",
       "      <th>31</th>\n",
       "      <th>32</th>\n",
       "    </tr>\n",
       "  </thead>\n",
       "  <tbody>\n",
       "    <tr>\n",
       "      <th>0</th>\n",
       "      <td>0</td>\n",
       "      <td>0.772</td>\n",
       "      <td>1.408</td>\n",
       "      <td>2.344</td>\n",
       "      <td>2.892</td>\n",
       "      <td>3.500</td>\n",
       "      <td>4.452</td>\n",
       "      <td>5.012</td>\n",
       "      <td>5.640</td>\n",
       "      <td>6.580</td>\n",
       "      <td>...</td>\n",
       "      <td>16.608</td>\n",
       "      <td>17.568</td>\n",
       "      <td>18.124</td>\n",
       "      <td>18.772</td>\n",
       "      <td>19.704</td>\n",
       "      <td>20.576</td>\n",
       "      <td>21.424</td>\n",
       "      <td>22.284</td>\n",
       "      <td>23.140</td>\n",
       "      <td>0</td>\n",
       "    </tr>\n",
       "    <tr>\n",
       "      <th>1</th>\n",
       "      <td>1</td>\n",
       "      <td>1.408</td>\n",
       "      <td>2.344</td>\n",
       "      <td>2.892</td>\n",
       "      <td>3.500</td>\n",
       "      <td>4.452</td>\n",
       "      <td>5.012</td>\n",
       "      <td>5.640</td>\n",
       "      <td>6.580</td>\n",
       "      <td>7.424</td>\n",
       "      <td>...</td>\n",
       "      <td>17.568</td>\n",
       "      <td>18.124</td>\n",
       "      <td>18.772</td>\n",
       "      <td>19.704</td>\n",
       "      <td>20.576</td>\n",
       "      <td>21.424</td>\n",
       "      <td>22.284</td>\n",
       "      <td>23.140</td>\n",
       "      <td>23.976</td>\n",
       "      <td>0</td>\n",
       "    </tr>\n",
       "    <tr>\n",
       "      <th>2</th>\n",
       "      <td>2</td>\n",
       "      <td>2.344</td>\n",
       "      <td>2.892</td>\n",
       "      <td>3.500</td>\n",
       "      <td>4.452</td>\n",
       "      <td>5.012</td>\n",
       "      <td>5.640</td>\n",
       "      <td>6.580</td>\n",
       "      <td>7.424</td>\n",
       "      <td>8.264</td>\n",
       "      <td>...</td>\n",
       "      <td>18.124</td>\n",
       "      <td>18.772</td>\n",
       "      <td>19.704</td>\n",
       "      <td>20.576</td>\n",
       "      <td>21.424</td>\n",
       "      <td>22.284</td>\n",
       "      <td>23.140</td>\n",
       "      <td>23.976</td>\n",
       "      <td>24.508</td>\n",
       "      <td>0</td>\n",
       "    </tr>\n",
       "    <tr>\n",
       "      <th>3</th>\n",
       "      <td>3</td>\n",
       "      <td>2.892</td>\n",
       "      <td>3.500</td>\n",
       "      <td>4.452</td>\n",
       "      <td>5.012</td>\n",
       "      <td>5.640</td>\n",
       "      <td>6.580</td>\n",
       "      <td>7.424</td>\n",
       "      <td>8.264</td>\n",
       "      <td>9.104</td>\n",
       "      <td>...</td>\n",
       "      <td>18.772</td>\n",
       "      <td>19.704</td>\n",
       "      <td>20.576</td>\n",
       "      <td>21.424</td>\n",
       "      <td>22.284</td>\n",
       "      <td>23.140</td>\n",
       "      <td>23.976</td>\n",
       "      <td>24.508</td>\n",
       "      <td>25.064</td>\n",
       "      <td>0</td>\n",
       "    </tr>\n",
       "    <tr>\n",
       "      <th>4</th>\n",
       "      <td>4</td>\n",
       "      <td>3.500</td>\n",
       "      <td>4.452</td>\n",
       "      <td>5.012</td>\n",
       "      <td>5.640</td>\n",
       "      <td>6.580</td>\n",
       "      <td>7.424</td>\n",
       "      <td>8.264</td>\n",
       "      <td>9.104</td>\n",
       "      <td>9.932</td>\n",
       "      <td>...</td>\n",
       "      <td>19.704</td>\n",
       "      <td>20.576</td>\n",
       "      <td>21.424</td>\n",
       "      <td>22.284</td>\n",
       "      <td>23.140</td>\n",
       "      <td>23.976</td>\n",
       "      <td>24.508</td>\n",
       "      <td>25.064</td>\n",
       "      <td>25.556</td>\n",
       "      <td>0</td>\n",
       "    </tr>\n",
       "  </tbody>\n",
       "</table>\n",
       "<p>5 rows × 34 columns</p>\n",
       "</div>"
      ],
      "text/plain": [
       "   Unnamed: 0      0      1      2      3      4      5      6      7      8  \\\n",
       "0           0  0.772  1.408  2.344  2.892  3.500  4.452  5.012  5.640  6.580   \n",
       "1           1  1.408  2.344  2.892  3.500  4.452  5.012  5.640  6.580  7.424   \n",
       "2           2  2.344  2.892  3.500  4.452  5.012  5.640  6.580  7.424  8.264   \n",
       "3           3  2.892  3.500  4.452  5.012  5.640  6.580  7.424  8.264  9.104   \n",
       "4           4  3.500  4.452  5.012  5.640  6.580  7.424  8.264  9.104  9.932   \n",
       "\n",
       "   ...      23      24      25      26      27      28      29      30  \\\n",
       "0  ...  16.608  17.568  18.124  18.772  19.704  20.576  21.424  22.284   \n",
       "1  ...  17.568  18.124  18.772  19.704  20.576  21.424  22.284  23.140   \n",
       "2  ...  18.124  18.772  19.704  20.576  21.424  22.284  23.140  23.976   \n",
       "3  ...  18.772  19.704  20.576  21.424  22.284  23.140  23.976  24.508   \n",
       "4  ...  19.704  20.576  21.424  22.284  23.140  23.976  24.508  25.064   \n",
       "\n",
       "       31  32  \n",
       "0  23.140   0  \n",
       "1  23.976   0  \n",
       "2  24.508   0  \n",
       "3  25.064   0  \n",
       "4  25.556   0  \n",
       "\n",
       "[5 rows x 34 columns]"
      ]
     },
     "execution_count": 92,
     "metadata": {},
     "output_type": "execute_result"
    }
   ],
   "source": [
    "df = pd.read_csv('new_data1')\n",
    "df.head()"
   ]
  },
  {
   "cell_type": "code",
   "execution_count": 356,
   "id": "892e69c5",
   "metadata": {},
   "outputs": [],
   "source": [
    "def windows_to_dataframe(windows_dataset,\n",
    "                         records_set):\n",
    "    record_to_ind = {}\n",
    "    dataset = []\n",
    "    windows_count = 0\n",
    "    for record in tqdm(records_set):\n",
    "        record_to_ind[record] = []\n",
    "        for window in windows_dataset[record]:\n",
    "            dataset.append(window.dict())\n",
    "            record_to_ind[record].append(windows_count)\n",
    "            windows_count += 1\n",
    "    dataset = pd.DataFrame(dataset)\n",
    "    dataset.to_csv(\"C:/Users/alexm/Desktop/dataset32\")\n",
    "    return dataset, record_to_ind"
   ]
  },
  {
   "cell_type": "code",
   "execution_count": 357,
   "id": "16140d4c",
   "metadata": {},
   "outputs": [
    {
     "data": {
      "application/vnd.jupyter.widget-view+json": {
       "model_id": "5f90c9bf643f48a39e21a42dc85a9ee8",
       "version_major": 2,
       "version_minor": 0
      },
      "text/plain": [
       "  0%|          | 0/61123 [00:00<?, ?it/s]"
      ]
     },
     "metadata": {},
     "output_type": "display_data"
    }
   ],
   "source": [
    "for record in tqdm(windows):\n",
    "    clear_output()\n",
    "    for window in tqdm(windows[record]):\n",
    "        window.prepare_alphabet(0.3)"
   ]
  },
  {
   "cell_type": "code",
   "execution_count": 358,
   "id": "07795283",
   "metadata": {},
   "outputs": [
    {
     "data": {
      "application/vnd.jupyter.widget-view+json": {
       "model_id": "a3d4bfb6a6bd443d9d5c79884f90ec06",
       "version_major": 2,
       "version_minor": 0
      },
      "text/plain": [
       "  0%|          | 0/23 [00:00<?, ?it/s]"
      ]
     },
     "metadata": {},
     "output_type": "display_data"
    }
   ],
   "source": [
    "dataset, record_to_ind = windows_to_dataframe(windows, train_records)"
   ]
  },
  {
   "cell_type": "code",
   "execution_count": 359,
   "id": "acf588f5",
   "metadata": {},
   "outputs": [
    {
     "data": {
      "text/html": [
       "<div>\n",
       "<style scoped>\n",
       "    .dataframe tbody tr th:only-of-type {\n",
       "        vertical-align: middle;\n",
       "    }\n",
       "\n",
       "    .dataframe tbody tr th {\n",
       "        vertical-align: top;\n",
       "    }\n",
       "\n",
       "    .dataframe thead th {\n",
       "        text-align: right;\n",
       "    }\n",
       "</style>\n",
       "<table border=\"1\" class=\"dataframe\">\n",
       "  <thead>\n",
       "    <tr style=\"text-align: right;\">\n",
       "      <th></th>\n",
       "      <th>mean_hr</th>\n",
       "      <th>median_hr</th>\n",
       "      <th>variance_hr</th>\n",
       "      <th>mean_ch</th>\n",
       "      <th>variance_ch</th>\n",
       "      <th>median_ch</th>\n",
       "      <th>mean_abs_ch</th>\n",
       "      <th>max_ch</th>\n",
       "      <th>min_ch</th>\n",
       "      <th>sum_ch_abs</th>\n",
       "      <th>label</th>\n",
       "      <th>AA</th>\n",
       "      <th>AB</th>\n",
       "      <th>AC</th>\n",
       "      <th>BA</th>\n",
       "      <th>BB</th>\n",
       "      <th>BC</th>\n",
       "      <th>CA</th>\n",
       "      <th>CB</th>\n",
       "      <th>CC</th>\n",
       "    </tr>\n",
       "  </thead>\n",
       "  <tbody>\n",
       "    <tr>\n",
       "      <th>0</th>\n",
       "      <td>0.721548</td>\n",
       "      <td>0.824</td>\n",
       "      <td>0.030619</td>\n",
       "      <td>0.055419</td>\n",
       "      <td>0.099190</td>\n",
       "      <td>-0.002326</td>\n",
       "      <td>0.222344</td>\n",
       "      <td>0.923729</td>\n",
       "      <td>-0.420833</td>\n",
       "      <td>1.662562</td>\n",
       "      <td>0</td>\n",
       "      <td>0.016968</td>\n",
       "      <td>0.456441</td>\n",
       "      <td>0.226467</td>\n",
       "      <td>0.212559</td>\n",
       "      <td>0.000000</td>\n",
       "      <td>0.436932</td>\n",
       "      <td>0.709926</td>\n",
       "      <td>0.000000</td>\n",
       "      <td>0.0</td>\n",
       "    </tr>\n",
       "    <tr>\n",
       "      <th>1</th>\n",
       "      <td>0.728000</td>\n",
       "      <td>0.828</td>\n",
       "      <td>0.030763</td>\n",
       "      <td>0.038917</td>\n",
       "      <td>0.093349</td>\n",
       "      <td>-0.004695</td>\n",
       "      <td>0.207399</td>\n",
       "      <td>0.923729</td>\n",
       "      <td>-0.420833</td>\n",
       "      <td>1.167500</td>\n",
       "      <td>0</td>\n",
       "      <td>0.019577</td>\n",
       "      <td>0.482744</td>\n",
       "      <td>0.239518</td>\n",
       "      <td>0.224808</td>\n",
       "      <td>0.000000</td>\n",
       "      <td>0.308075</td>\n",
       "      <td>0.750838</td>\n",
       "      <td>0.000000</td>\n",
       "      <td>0.0</td>\n",
       "    </tr>\n",
       "    <tr>\n",
       "      <th>2</th>\n",
       "      <td>0.714968</td>\n",
       "      <td>0.824</td>\n",
       "      <td>0.030437</td>\n",
       "      <td>0.040613</td>\n",
       "      <td>0.091894</td>\n",
       "      <td>-0.004695</td>\n",
       "      <td>0.205703</td>\n",
       "      <td>0.923729</td>\n",
       "      <td>-0.420833</td>\n",
       "      <td>1.218393</td>\n",
       "      <td>0</td>\n",
       "      <td>0.021004</td>\n",
       "      <td>0.517926</td>\n",
       "      <td>0.385461</td>\n",
       "      <td>0.241192</td>\n",
       "      <td>0.000000</td>\n",
       "      <td>0.330527</td>\n",
       "      <td>0.644446</td>\n",
       "      <td>0.000000</td>\n",
       "      <td>0.0</td>\n",
       "    </tr>\n",
       "    <tr>\n",
       "      <th>3</th>\n",
       "      <td>0.715226</td>\n",
       "      <td>0.824</td>\n",
       "      <td>0.030353</td>\n",
       "      <td>0.038467</td>\n",
       "      <td>0.091732</td>\n",
       "      <td>-0.004695</td>\n",
       "      <td>0.203557</td>\n",
       "      <td>0.923729</td>\n",
       "      <td>-0.420833</td>\n",
       "      <td>1.154017</td>\n",
       "      <td>0</td>\n",
       "      <td>0.019698</td>\n",
       "      <td>0.388570</td>\n",
       "      <td>0.361486</td>\n",
       "      <td>0.226190</td>\n",
       "      <td>0.000000</td>\n",
       "      <td>0.309969</td>\n",
       "      <td>0.755454</td>\n",
       "      <td>0.000000</td>\n",
       "      <td>0.0</td>\n",
       "    </tr>\n",
       "    <tr>\n",
       "      <th>4</th>\n",
       "      <td>0.711484</td>\n",
       "      <td>0.824</td>\n",
       "      <td>0.031575</td>\n",
       "      <td>0.015771</td>\n",
       "      <td>0.082734</td>\n",
       "      <td>-0.004785</td>\n",
       "      <td>0.188534</td>\n",
       "      <td>0.923729</td>\n",
       "      <td>-0.420833</td>\n",
       "      <td>0.473120</td>\n",
       "      <td>0</td>\n",
       "      <td>0.022151</td>\n",
       "      <td>0.403361</td>\n",
       "      <td>0.375246</td>\n",
       "      <td>0.234800</td>\n",
       "      <td>0.000000</td>\n",
       "      <td>0.160884</td>\n",
       "      <td>0.784210</td>\n",
       "      <td>0.000000</td>\n",
       "      <td>0.0</td>\n",
       "    </tr>\n",
       "    <tr>\n",
       "      <th>...</th>\n",
       "      <td>...</td>\n",
       "      <td>...</td>\n",
       "      <td>...</td>\n",
       "      <td>...</td>\n",
       "      <td>...</td>\n",
       "      <td>...</td>\n",
       "      <td>...</td>\n",
       "      <td>...</td>\n",
       "      <td>...</td>\n",
       "      <td>...</td>\n",
       "      <td>...</td>\n",
       "      <td>...</td>\n",
       "      <td>...</td>\n",
       "      <td>...</td>\n",
       "      <td>...</td>\n",
       "      <td>...</td>\n",
       "      <td>...</td>\n",
       "      <td>...</td>\n",
       "      <td>...</td>\n",
       "      <td>...</td>\n",
       "    </tr>\n",
       "    <tr>\n",
       "      <th>1149515</th>\n",
       "      <td>0.513161</td>\n",
       "      <td>0.464</td>\n",
       "      <td>0.063197</td>\n",
       "      <td>0.702270</td>\n",
       "      <td>6.345932</td>\n",
       "      <td>0.013258</td>\n",
       "      <td>1.119564</td>\n",
       "      <td>13.142857</td>\n",
       "      <td>-0.926316</td>\n",
       "      <td>21.068097</td>\n",
       "      <td>1</td>\n",
       "      <td>0.004980</td>\n",
       "      <td>0.147352</td>\n",
       "      <td>0.548326</td>\n",
       "      <td>0.343100</td>\n",
       "      <td>0.298445</td>\n",
       "      <td>0.235090</td>\n",
       "      <td>0.229184</td>\n",
       "      <td>0.602512</td>\n",
       "      <td>0.0</td>\n",
       "    </tr>\n",
       "    <tr>\n",
       "      <th>1149516</th>\n",
       "      <td>0.520774</td>\n",
       "      <td>0.464</td>\n",
       "      <td>0.068268</td>\n",
       "      <td>0.711204</td>\n",
       "      <td>6.338627</td>\n",
       "      <td>0.013258</td>\n",
       "      <td>1.128498</td>\n",
       "      <td>13.142857</td>\n",
       "      <td>-0.926316</td>\n",
       "      <td>21.336115</td>\n",
       "      <td>1</td>\n",
       "      <td>0.005149</td>\n",
       "      <td>0.228549</td>\n",
       "      <td>0.472485</td>\n",
       "      <td>0.354774</td>\n",
       "      <td>0.308600</td>\n",
       "      <td>0.243089</td>\n",
       "      <td>0.236982</td>\n",
       "      <td>0.623013</td>\n",
       "      <td>0.0</td>\n",
       "    </tr>\n",
       "    <tr>\n",
       "      <th>1149517</th>\n",
       "      <td>0.500903</td>\n",
       "      <td>0.452</td>\n",
       "      <td>0.066950</td>\n",
       "      <td>0.701803</td>\n",
       "      <td>6.363477</td>\n",
       "      <td>0.013258</td>\n",
       "      <td>1.137898</td>\n",
       "      <td>13.142857</td>\n",
       "      <td>-0.926316</td>\n",
       "      <td>21.054095</td>\n",
       "      <td>1</td>\n",
       "      <td>0.005069</td>\n",
       "      <td>0.225005</td>\n",
       "      <td>0.465160</td>\n",
       "      <td>0.349274</td>\n",
       "      <td>0.303815</td>\n",
       "      <td>0.358981</td>\n",
       "      <td>0.116654</td>\n",
       "      <td>0.613353</td>\n",
       "      <td>0.0</td>\n",
       "    </tr>\n",
       "    <tr>\n",
       "      <th>1149518</th>\n",
       "      <td>0.501806</td>\n",
       "      <td>0.464</td>\n",
       "      <td>0.066879</td>\n",
       "      <td>0.744630</td>\n",
       "      <td>6.333612</td>\n",
       "      <td>0.088622</td>\n",
       "      <td>1.162868</td>\n",
       "      <td>13.142857</td>\n",
       "      <td>-0.926316</td>\n",
       "      <td>22.338901</td>\n",
       "      <td>1</td>\n",
       "      <td>0.004929</td>\n",
       "      <td>0.218755</td>\n",
       "      <td>0.361791</td>\n",
       "      <td>0.339572</td>\n",
       "      <td>0.295377</td>\n",
       "      <td>0.349009</td>\n",
       "      <td>0.113414</td>\n",
       "      <td>0.695703</td>\n",
       "      <td>0.0</td>\n",
       "    </tr>\n",
       "    <tr>\n",
       "      <th>1149519</th>\n",
       "      <td>0.505419</td>\n",
       "      <td>0.464</td>\n",
       "      <td>0.066015</td>\n",
       "      <td>0.754304</td>\n",
       "      <td>6.314840</td>\n",
       "      <td>0.088622</td>\n",
       "      <td>1.153194</td>\n",
       "      <td>13.142857</td>\n",
       "      <td>-0.926316</td>\n",
       "      <td>22.629125</td>\n",
       "      <td>1</td>\n",
       "      <td>0.005157</td>\n",
       "      <td>0.228912</td>\n",
       "      <td>0.378589</td>\n",
       "      <td>0.414561</td>\n",
       "      <td>0.309091</td>\n",
       "      <td>0.365214</td>\n",
       "      <td>0.118680</td>\n",
       "      <td>0.624003</td>\n",
       "      <td>0.0</td>\n",
       "    </tr>\n",
       "  </tbody>\n",
       "</table>\n",
       "<p>1149520 rows × 20 columns</p>\n",
       "</div>"
      ],
      "text/plain": [
       "          mean_hr  median_hr  variance_hr   mean_ch  variance_ch  median_ch  \\\n",
       "0        0.721548      0.824     0.030619  0.055419     0.099190  -0.002326   \n",
       "1        0.728000      0.828     0.030763  0.038917     0.093349  -0.004695   \n",
       "2        0.714968      0.824     0.030437  0.040613     0.091894  -0.004695   \n",
       "3        0.715226      0.824     0.030353  0.038467     0.091732  -0.004695   \n",
       "4        0.711484      0.824     0.031575  0.015771     0.082734  -0.004785   \n",
       "...           ...        ...          ...       ...          ...        ...   \n",
       "1149515  0.513161      0.464     0.063197  0.702270     6.345932   0.013258   \n",
       "1149516  0.520774      0.464     0.068268  0.711204     6.338627   0.013258   \n",
       "1149517  0.500903      0.452     0.066950  0.701803     6.363477   0.013258   \n",
       "1149518  0.501806      0.464     0.066879  0.744630     6.333612   0.088622   \n",
       "1149519  0.505419      0.464     0.066015  0.754304     6.314840   0.088622   \n",
       "\n",
       "         mean_abs_ch     max_ch    min_ch  sum_ch_abs  label        AA  \\\n",
       "0           0.222344   0.923729 -0.420833    1.662562      0  0.016968   \n",
       "1           0.207399   0.923729 -0.420833    1.167500      0  0.019577   \n",
       "2           0.205703   0.923729 -0.420833    1.218393      0  0.021004   \n",
       "3           0.203557   0.923729 -0.420833    1.154017      0  0.019698   \n",
       "4           0.188534   0.923729 -0.420833    0.473120      0  0.022151   \n",
       "...              ...        ...       ...         ...    ...       ...   \n",
       "1149515     1.119564  13.142857 -0.926316   21.068097      1  0.004980   \n",
       "1149516     1.128498  13.142857 -0.926316   21.336115      1  0.005149   \n",
       "1149517     1.137898  13.142857 -0.926316   21.054095      1  0.005069   \n",
       "1149518     1.162868  13.142857 -0.926316   22.338901      1  0.004929   \n",
       "1149519     1.153194  13.142857 -0.926316   22.629125      1  0.005157   \n",
       "\n",
       "               AB        AC        BA        BB        BC        CA        CB  \\\n",
       "0        0.456441  0.226467  0.212559  0.000000  0.436932  0.709926  0.000000   \n",
       "1        0.482744  0.239518  0.224808  0.000000  0.308075  0.750838  0.000000   \n",
       "2        0.517926  0.385461  0.241192  0.000000  0.330527  0.644446  0.000000   \n",
       "3        0.388570  0.361486  0.226190  0.000000  0.309969  0.755454  0.000000   \n",
       "4        0.403361  0.375246  0.234800  0.000000  0.160884  0.784210  0.000000   \n",
       "...           ...       ...       ...       ...       ...       ...       ...   \n",
       "1149515  0.147352  0.548326  0.343100  0.298445  0.235090  0.229184  0.602512   \n",
       "1149516  0.228549  0.472485  0.354774  0.308600  0.243089  0.236982  0.623013   \n",
       "1149517  0.225005  0.465160  0.349274  0.303815  0.358981  0.116654  0.613353   \n",
       "1149518  0.218755  0.361791  0.339572  0.295377  0.349009  0.113414  0.695703   \n",
       "1149519  0.228912  0.378589  0.414561  0.309091  0.365214  0.118680  0.624003   \n",
       "\n",
       "          CC  \n",
       "0        0.0  \n",
       "1        0.0  \n",
       "2        0.0  \n",
       "3        0.0  \n",
       "4        0.0  \n",
       "...      ...  \n",
       "1149515  0.0  \n",
       "1149516  0.0  \n",
       "1149517  0.0  \n",
       "1149518  0.0  \n",
       "1149519  0.0  \n",
       "\n",
       "[1149520 rows x 20 columns]"
      ]
     },
     "execution_count": 359,
     "metadata": {},
     "output_type": "execute_result"
    }
   ],
   "source": [
    "dataset"
   ]
  },
  {
   "cell_type": "markdown",
   "id": "c0cec34a",
   "metadata": {},
   "source": [
    "Итак, мы получили датасет, с которым работал Никита Михайлович. Но как мы видим, в нём действительно не наблюдается проблемы несбалансированности классов:"
   ]
  },
  {
   "cell_type": "code",
   "execution_count": 360,
   "id": "1d465208",
   "metadata": {},
   "outputs": [
    {
     "name": "stdout",
     "output_type": "stream",
     "text": [
      "0.44600354930753705\n"
     ]
    }
   ],
   "source": [
    "print(dataset['label'].sum() / dataset.shape[0])"
   ]
  },
  {
   "cell_type": "markdown",
   "id": "d8ec5050",
   "metadata": {},
   "source": [
    "Для демонстрации ограничимся искусственным изменением баланса классов в имеющемся датасете путём простого уменьшения количества объектов с меткой 1. **Следует отметить, что такой подход исказит результат, для серьёзного исследования НЕОБХОДИМ более точный подход.**"
   ]
  },
  {
   "cell_type": "code",
   "execution_count": 361,
   "id": "fd682b9e",
   "metadata": {},
   "outputs": [],
   "source": [
    "def windows_to_imbalanced_dataframe(windows_dataset,\n",
    "                         records_set):\n",
    "    record_to_ind = {}\n",
    "    dataset = []\n",
    "    windows_count = 0\n",
    "    counter = 0\n",
    "    for record in tqdm(records_set):\n",
    "        record_to_ind[record] = []\n",
    "        for window in windows_dataset[record]:\n",
    "            if window.label == 0 or counter == 0:\n",
    "                dataset.append(window.dict())\n",
    "                record_to_ind[record].append(windows_count)\n",
    "                windows_count += 1\n",
    "            counter += 1\n",
    "            counter %= 50\n",
    "    dataset = pd.DataFrame(dataset)\n",
    "    dataset.to_csv(\"C:/Users/alexm/Desktop/imbalanced_dataset32\")\n",
    "    return dataset, record_to_ind"
   ]
  },
  {
   "cell_type": "code",
   "execution_count": 362,
   "id": "dc72a197",
   "metadata": {},
   "outputs": [
    {
     "data": {
      "application/vnd.jupyter.widget-view+json": {
       "model_id": "1ba12e0b756545e298a0fb5b7db8e087",
       "version_major": 2,
       "version_minor": 0
      },
      "text/plain": [
       "  0%|          | 0/61123 [00:00<?, ?it/s]"
      ]
     },
     "metadata": {},
     "output_type": "display_data"
    }
   ],
   "source": [
    "for record in tqdm(windows):\n",
    "    clear_output()\n",
    "    for window in tqdm(windows[record]):\n",
    "        window.prepare_alphabet(0.3)"
   ]
  },
  {
   "cell_type": "code",
   "execution_count": 363,
   "id": "358815f8",
   "metadata": {},
   "outputs": [],
   "source": [
    "alphabet.build_alphabet_dataset(windows, 2)\n",
    "key = (0.3, 2)"
   ]
  },
  {
   "cell_type": "code",
   "execution_count": 364,
   "id": "6808797c",
   "metadata": {},
   "outputs": [
    {
     "data": {
      "text/plain": [
       "dict_keys(['04015', '04043', '04048', '04126', '04746', '04908', '04936', '05091', '05121', '05261', '06426', '06453', '06995', '07162', '07859', '07879', '07910', '08215', '08219', '08378', '08405', '08434', '08455'])"
      ]
     },
     "execution_count": 364,
     "metadata": {},
     "output_type": "execute_result"
    }
   ],
   "source": [
    "train_records = windows.keys()\n",
    "train_records"
   ]
  },
  {
   "cell_type": "code",
   "execution_count": 365,
   "id": "7d946211",
   "metadata": {},
   "outputs": [
    {
     "data": {
      "application/vnd.jupyter.widget-view+json": {
       "model_id": "97bcf08aa00d447fa1f4105ce7445140",
       "version_major": 2,
       "version_minor": 0
      },
      "text/plain": [
       "  0%|          | 0/23 [00:00<?, ?it/s]"
      ]
     },
     "metadata": {},
     "output_type": "display_data"
    }
   ],
   "source": [
    "imbalanced_dataset, record_to_ind = windows_to_imbalanced_dataframe(windows, train_records)"
   ]
  },
  {
   "cell_type": "code",
   "execution_count": 366,
   "id": "265dfa6f",
   "metadata": {},
   "outputs": [
    {
     "data": {
      "text/html": [
       "<div>\n",
       "<style scoped>\n",
       "    .dataframe tbody tr th:only-of-type {\n",
       "        vertical-align: middle;\n",
       "    }\n",
       "\n",
       "    .dataframe tbody tr th {\n",
       "        vertical-align: top;\n",
       "    }\n",
       "\n",
       "    .dataframe thead th {\n",
       "        text-align: right;\n",
       "    }\n",
       "</style>\n",
       "<table border=\"1\" class=\"dataframe\">\n",
       "  <thead>\n",
       "    <tr style=\"text-align: right;\">\n",
       "      <th></th>\n",
       "      <th>mean_hr</th>\n",
       "      <th>median_hr</th>\n",
       "      <th>variance_hr</th>\n",
       "      <th>mean_ch</th>\n",
       "      <th>variance_ch</th>\n",
       "      <th>median_ch</th>\n",
       "      <th>mean_abs_ch</th>\n",
       "      <th>max_ch</th>\n",
       "      <th>min_ch</th>\n",
       "      <th>sum_ch_abs</th>\n",
       "      <th>label</th>\n",
       "      <th>AA</th>\n",
       "      <th>AB</th>\n",
       "      <th>AC</th>\n",
       "      <th>BA</th>\n",
       "      <th>BB</th>\n",
       "      <th>BC</th>\n",
       "      <th>CA</th>\n",
       "      <th>CB</th>\n",
       "      <th>CC</th>\n",
       "    </tr>\n",
       "  </thead>\n",
       "  <tbody>\n",
       "    <tr>\n",
       "      <th>0</th>\n",
       "      <td>0.721548</td>\n",
       "      <td>0.824</td>\n",
       "      <td>0.030619</td>\n",
       "      <td>0.055419</td>\n",
       "      <td>0.099190</td>\n",
       "      <td>-0.002326</td>\n",
       "      <td>0.222344</td>\n",
       "      <td>0.923729</td>\n",
       "      <td>-0.420833</td>\n",
       "      <td>1.662562</td>\n",
       "      <td>0</td>\n",
       "      <td>0.016968</td>\n",
       "      <td>0.456441</td>\n",
       "      <td>0.226467</td>\n",
       "      <td>0.212559</td>\n",
       "      <td>0.000000</td>\n",
       "      <td>0.436932</td>\n",
       "      <td>0.709926</td>\n",
       "      <td>0.000000</td>\n",
       "      <td>0.000000</td>\n",
       "    </tr>\n",
       "    <tr>\n",
       "      <th>1</th>\n",
       "      <td>0.728000</td>\n",
       "      <td>0.828</td>\n",
       "      <td>0.030763</td>\n",
       "      <td>0.038917</td>\n",
       "      <td>0.093349</td>\n",
       "      <td>-0.004695</td>\n",
       "      <td>0.207399</td>\n",
       "      <td>0.923729</td>\n",
       "      <td>-0.420833</td>\n",
       "      <td>1.167500</td>\n",
       "      <td>0</td>\n",
       "      <td>0.019577</td>\n",
       "      <td>0.482744</td>\n",
       "      <td>0.239518</td>\n",
       "      <td>0.224808</td>\n",
       "      <td>0.000000</td>\n",
       "      <td>0.308075</td>\n",
       "      <td>0.750838</td>\n",
       "      <td>0.000000</td>\n",
       "      <td>0.000000</td>\n",
       "    </tr>\n",
       "    <tr>\n",
       "      <th>2</th>\n",
       "      <td>0.714968</td>\n",
       "      <td>0.824</td>\n",
       "      <td>0.030437</td>\n",
       "      <td>0.040613</td>\n",
       "      <td>0.091894</td>\n",
       "      <td>-0.004695</td>\n",
       "      <td>0.205703</td>\n",
       "      <td>0.923729</td>\n",
       "      <td>-0.420833</td>\n",
       "      <td>1.218393</td>\n",
       "      <td>0</td>\n",
       "      <td>0.021004</td>\n",
       "      <td>0.517926</td>\n",
       "      <td>0.385461</td>\n",
       "      <td>0.241192</td>\n",
       "      <td>0.000000</td>\n",
       "      <td>0.330527</td>\n",
       "      <td>0.644446</td>\n",
       "      <td>0.000000</td>\n",
       "      <td>0.000000</td>\n",
       "    </tr>\n",
       "    <tr>\n",
       "      <th>3</th>\n",
       "      <td>0.715226</td>\n",
       "      <td>0.824</td>\n",
       "      <td>0.030353</td>\n",
       "      <td>0.038467</td>\n",
       "      <td>0.091732</td>\n",
       "      <td>-0.004695</td>\n",
       "      <td>0.203557</td>\n",
       "      <td>0.923729</td>\n",
       "      <td>-0.420833</td>\n",
       "      <td>1.154017</td>\n",
       "      <td>0</td>\n",
       "      <td>0.019698</td>\n",
       "      <td>0.388570</td>\n",
       "      <td>0.361486</td>\n",
       "      <td>0.226190</td>\n",
       "      <td>0.000000</td>\n",
       "      <td>0.309969</td>\n",
       "      <td>0.755454</td>\n",
       "      <td>0.000000</td>\n",
       "      <td>0.000000</td>\n",
       "    </tr>\n",
       "    <tr>\n",
       "      <th>4</th>\n",
       "      <td>0.711484</td>\n",
       "      <td>0.824</td>\n",
       "      <td>0.031575</td>\n",
       "      <td>0.015771</td>\n",
       "      <td>0.082734</td>\n",
       "      <td>-0.004785</td>\n",
       "      <td>0.188534</td>\n",
       "      <td>0.923729</td>\n",
       "      <td>-0.420833</td>\n",
       "      <td>0.473120</td>\n",
       "      <td>0</td>\n",
       "      <td>0.022151</td>\n",
       "      <td>0.403361</td>\n",
       "      <td>0.375246</td>\n",
       "      <td>0.234800</td>\n",
       "      <td>0.000000</td>\n",
       "      <td>0.160884</td>\n",
       "      <td>0.784210</td>\n",
       "      <td>0.000000</td>\n",
       "      <td>0.000000</td>\n",
       "    </tr>\n",
       "    <tr>\n",
       "      <th>...</th>\n",
       "      <td>...</td>\n",
       "      <td>...</td>\n",
       "      <td>...</td>\n",
       "      <td>...</td>\n",
       "      <td>...</td>\n",
       "      <td>...</td>\n",
       "      <td>...</td>\n",
       "      <td>...</td>\n",
       "      <td>...</td>\n",
       "      <td>...</td>\n",
       "      <td>...</td>\n",
       "      <td>...</td>\n",
       "      <td>...</td>\n",
       "      <td>...</td>\n",
       "      <td>...</td>\n",
       "      <td>...</td>\n",
       "      <td>...</td>\n",
       "      <td>...</td>\n",
       "      <td>...</td>\n",
       "      <td>...</td>\n",
       "    </tr>\n",
       "    <tr>\n",
       "      <th>647080</th>\n",
       "      <td>0.452774</td>\n",
       "      <td>0.416</td>\n",
       "      <td>0.036201</td>\n",
       "      <td>0.201910</td>\n",
       "      <td>0.532555</td>\n",
       "      <td>0.077526</td>\n",
       "      <td>0.550593</td>\n",
       "      <td>2.134615</td>\n",
       "      <td>-0.866667</td>\n",
       "      <td>6.057312</td>\n",
       "      <td>1</td>\n",
       "      <td>0.010075</td>\n",
       "      <td>0.223585</td>\n",
       "      <td>0.184890</td>\n",
       "      <td>0.231380</td>\n",
       "      <td>0.603797</td>\n",
       "      <td>0.475621</td>\n",
       "      <td>0.115918</td>\n",
       "      <td>0.507902</td>\n",
       "      <td>0.000000</td>\n",
       "    </tr>\n",
       "    <tr>\n",
       "      <th>647081</th>\n",
       "      <td>0.892903</td>\n",
       "      <td>0.504</td>\n",
       "      <td>3.955015</td>\n",
       "      <td>0.771551</td>\n",
       "      <td>5.053565</td>\n",
       "      <td>0.041485</td>\n",
       "      <td>1.276490</td>\n",
       "      <td>10.624000</td>\n",
       "      <td>-0.859813</td>\n",
       "      <td>23.146531</td>\n",
       "      <td>1</td>\n",
       "      <td>0.001553</td>\n",
       "      <td>0.091887</td>\n",
       "      <td>0.113976</td>\n",
       "      <td>0.142635</td>\n",
       "      <td>0.558321</td>\n",
       "      <td>0.439799</td>\n",
       "      <td>0.071458</td>\n",
       "      <td>0.438339</td>\n",
       "      <td>0.505792</td>\n",
       "    </tr>\n",
       "    <tr>\n",
       "      <th>647082</th>\n",
       "      <td>0.530581</td>\n",
       "      <td>0.528</td>\n",
       "      <td>0.031410</td>\n",
       "      <td>0.175579</td>\n",
       "      <td>0.571055</td>\n",
       "      <td>-0.003759</td>\n",
       "      <td>0.518742</td>\n",
       "      <td>2.313725</td>\n",
       "      <td>-0.613636</td>\n",
       "      <td>5.267357</td>\n",
       "      <td>1</td>\n",
       "      <td>0.010608</td>\n",
       "      <td>0.078476</td>\n",
       "      <td>0.486706</td>\n",
       "      <td>0.365452</td>\n",
       "      <td>0.000000</td>\n",
       "      <td>0.250406</td>\n",
       "      <td>0.000000</td>\n",
       "      <td>0.748724</td>\n",
       "      <td>0.000000</td>\n",
       "    </tr>\n",
       "    <tr>\n",
       "      <th>647083</th>\n",
       "      <td>0.544774</td>\n",
       "      <td>0.476</td>\n",
       "      <td>0.042256</td>\n",
       "      <td>0.125149</td>\n",
       "      <td>0.273248</td>\n",
       "      <td>0.008154</td>\n",
       "      <td>0.425916</td>\n",
       "      <td>1.411111</td>\n",
       "      <td>-0.701493</td>\n",
       "      <td>3.754472</td>\n",
       "      <td>1</td>\n",
       "      <td>0.006530</td>\n",
       "      <td>0.386457</td>\n",
       "      <td>0.159787</td>\n",
       "      <td>0.349939</td>\n",
       "      <td>0.782727</td>\n",
       "      <td>0.102761</td>\n",
       "      <td>0.100180</td>\n",
       "      <td>0.263366</td>\n",
       "      <td>0.000000</td>\n",
       "    </tr>\n",
       "    <tr>\n",
       "      <th>647084</th>\n",
       "      <td>0.502194</td>\n",
       "      <td>0.504</td>\n",
       "      <td>0.057737</td>\n",
       "      <td>0.467478</td>\n",
       "      <td>1.484689</td>\n",
       "      <td>-0.005242</td>\n",
       "      <td>0.973060</td>\n",
       "      <td>3.153846</td>\n",
       "      <td>-0.861111</td>\n",
       "      <td>14.024329</td>\n",
       "      <td>1</td>\n",
       "      <td>0.002788</td>\n",
       "      <td>0.000000</td>\n",
       "      <td>0.272924</td>\n",
       "      <td>0.170775</td>\n",
       "      <td>0.222822</td>\n",
       "      <td>0.526562</td>\n",
       "      <td>0.085556</td>\n",
       "      <td>0.749736</td>\n",
       "      <td>0.000000</td>\n",
       "    </tr>\n",
       "  </tbody>\n",
       "</table>\n",
       "<p>647085 rows × 20 columns</p>\n",
       "</div>"
      ],
      "text/plain": [
       "         mean_hr  median_hr  variance_hr   mean_ch  variance_ch  median_ch  \\\n",
       "0       0.721548      0.824     0.030619  0.055419     0.099190  -0.002326   \n",
       "1       0.728000      0.828     0.030763  0.038917     0.093349  -0.004695   \n",
       "2       0.714968      0.824     0.030437  0.040613     0.091894  -0.004695   \n",
       "3       0.715226      0.824     0.030353  0.038467     0.091732  -0.004695   \n",
       "4       0.711484      0.824     0.031575  0.015771     0.082734  -0.004785   \n",
       "...          ...        ...          ...       ...          ...        ...   \n",
       "647080  0.452774      0.416     0.036201  0.201910     0.532555   0.077526   \n",
       "647081  0.892903      0.504     3.955015  0.771551     5.053565   0.041485   \n",
       "647082  0.530581      0.528     0.031410  0.175579     0.571055  -0.003759   \n",
       "647083  0.544774      0.476     0.042256  0.125149     0.273248   0.008154   \n",
       "647084  0.502194      0.504     0.057737  0.467478     1.484689  -0.005242   \n",
       "\n",
       "        mean_abs_ch     max_ch    min_ch  sum_ch_abs  label        AA  \\\n",
       "0          0.222344   0.923729 -0.420833    1.662562      0  0.016968   \n",
       "1          0.207399   0.923729 -0.420833    1.167500      0  0.019577   \n",
       "2          0.205703   0.923729 -0.420833    1.218393      0  0.021004   \n",
       "3          0.203557   0.923729 -0.420833    1.154017      0  0.019698   \n",
       "4          0.188534   0.923729 -0.420833    0.473120      0  0.022151   \n",
       "...             ...        ...       ...         ...    ...       ...   \n",
       "647080     0.550593   2.134615 -0.866667    6.057312      1  0.010075   \n",
       "647081     1.276490  10.624000 -0.859813   23.146531      1  0.001553   \n",
       "647082     0.518742   2.313725 -0.613636    5.267357      1  0.010608   \n",
       "647083     0.425916   1.411111 -0.701493    3.754472      1  0.006530   \n",
       "647084     0.973060   3.153846 -0.861111   14.024329      1  0.002788   \n",
       "\n",
       "              AB        AC        BA        BB        BC        CA        CB  \\\n",
       "0       0.456441  0.226467  0.212559  0.000000  0.436932  0.709926  0.000000   \n",
       "1       0.482744  0.239518  0.224808  0.000000  0.308075  0.750838  0.000000   \n",
       "2       0.517926  0.385461  0.241192  0.000000  0.330527  0.644446  0.000000   \n",
       "3       0.388570  0.361486  0.226190  0.000000  0.309969  0.755454  0.000000   \n",
       "4       0.403361  0.375246  0.234800  0.000000  0.160884  0.784210  0.000000   \n",
       "...          ...       ...       ...       ...       ...       ...       ...   \n",
       "647080  0.223585  0.184890  0.231380  0.603797  0.475621  0.115918  0.507902   \n",
       "647081  0.091887  0.113976  0.142635  0.558321  0.439799  0.071458  0.438339   \n",
       "647082  0.078476  0.486706  0.365452  0.000000  0.250406  0.000000  0.748724   \n",
       "647083  0.386457  0.159787  0.349939  0.782727  0.102761  0.100180  0.263366   \n",
       "647084  0.000000  0.272924  0.170775  0.222822  0.526562  0.085556  0.749736   \n",
       "\n",
       "              CC  \n",
       "0       0.000000  \n",
       "1       0.000000  \n",
       "2       0.000000  \n",
       "3       0.000000  \n",
       "4       0.000000  \n",
       "...          ...  \n",
       "647080  0.000000  \n",
       "647081  0.505792  \n",
       "647082  0.000000  \n",
       "647083  0.000000  \n",
       "647084  0.000000  \n",
       "\n",
       "[647085 rows x 20 columns]"
      ]
     },
     "execution_count": 366,
     "metadata": {},
     "output_type": "execute_result"
    }
   ],
   "source": [
    "imbalanced_dataset"
   ]
  },
  {
   "cell_type": "markdown",
   "id": "16b0d534",
   "metadata": {},
   "source": [
    "Теперь мы имеем дело с несбалансированным датасетом (процент больных близок к показателю среди молодого населения)."
   ]
  },
  {
   "cell_type": "code",
   "execution_count": 367,
   "id": "66ec0d39",
   "metadata": {},
   "outputs": [
    {
     "name": "stdout",
     "output_type": "stream",
     "text": [
      "0.015847995240192557\n"
     ]
    }
   ],
   "source": [
    "print(imbalanced_dataset['label'].sum() / imbalanced_dataset.shape[0])"
   ]
  },
  {
   "cell_type": "markdown",
   "id": "27868aa0",
   "metadata": {},
   "source": [
    "$$\\Huge{\\textbf{Метрики качества}}$$"
   ]
  },
  {
   "cell_type": "markdown",
   "id": "91214a2d",
   "metadata": {},
   "source": [
    "В работе Никита Михайлович использовал метрики `Sensitivity`, `Specificity` и `AUC-PR`. Мы будем использовать их и коэффициент корреляции Мэтьюза. Он выражается в терминах матрицы ошибок следующим образом:\n",
    "\n",
    "$$\\text{MCC} = \\frac{TP\\times TN - FP \\times FN}{\\sqrt{(TP+FP)(TP+FN)(TN+FP)(TN+FN)}}$$ \n",
    "\n",
    "Метрика принимает значения от -1 до 1, где 1 - полная согласованность, 0 - уровень случайного предсказания, -1 - полная несогласованность. Метрика является симметричной и не различает \"верные\" и \"предсказанные\" метки."
   ]
  },
  {
   "cell_type": "markdown",
   "id": "3606640d",
   "metadata": {},
   "source": [
    "$$\\Huge{\\textbf{Обучение}}$$"
   ]
  },
  {
   "cell_type": "markdown",
   "id": "078abad4",
   "metadata": {},
   "source": [
    "Код всё так же взят $\\href{https://github.com/nikich28/ecg}{\\text{отсюда}}$."
   ]
  },
  {
   "cell_type": "code",
   "execution_count": 373,
   "id": "619a8f7b",
   "metadata": {},
   "outputs": [],
   "source": [
    "def windows_cv_iter(rec_to_ind, n_folds, train_folds):\n",
    "    #records_list = list(rec_to_ind.keys())\n",
    "    a, b, c, d = train_folds\n",
    "    records_split_ind_iter = [[a + b + c, d],\n",
    "                              [a + b + d, c],\n",
    "                              [a + c + d, b],\n",
    "                              [b + c + d, a]]\n",
    "\n",
    "    for split_indices in tqdm(records_split_ind_iter):\n",
    "\n",
    "        #train_records = [records_list[ind] for ind in split_indices[0]]\n",
    "        #test_records = [records_list[ind] for ind in split_indices[1]]\n",
    "        train_records = split_indices[0]\n",
    "        test_records = split_indices[1]\n",
    "\n",
    "        test_windows_indices = []\n",
    "        train_windows_indices = []\n",
    "        for r in train_records:\n",
    "            train_windows_indices += rec_to_ind[r]\n",
    "\n",
    "        for r in test_records:\n",
    "            test_windows_indices += rec_to_ind[r]\n",
    "\n",
    "        yield test_windows_indices, train_windows_indices\n",
    "\n",
    "\n",
    "\n",
    "def evaluate_estmator(estimator, x, y, test_fold, rec_to_ind):\n",
    "    test_windows_indices = []\n",
    "    for r in test_fold:\n",
    "        test_windows_indices += rec_to_ind[r]\n",
    "\n",
    "    prediction = estimator.predict(x[test_windows_indices])\n",
    "    prediction_proba = estimator.predict_proba(x[test_windows_indices])\n",
    "    #for svm should use the next line and change for auc\n",
    "    #prediction_proba = estimator.decision_function(x[test_windows_indices])\n",
    "\n",
    "    metrics = dict()\n",
    "\n",
    "    metrics['auc'] = roc_auc_score(np.array(y[test_windows_indices], dtype=np.int),\n",
    "                                   prediction_proba[:, 1])\n",
    "    #metrics['auc'] = roc_auc_score(np.array(y[test_windows_indices], dtype=np.int),\n",
    "    #                               prediction_proba)\n",
    "\n",
    "    metrics[\"sensitivity\"] = recall_score(prediction, y[test_windows_indices], pos_label=1)\n",
    "    metrics[\"accuracy\"] = accuracy_score(prediction, y[test_windows_indices])\n",
    "    metrics[\"specificity\"] = recall_score(prediction, y[test_windows_indices], pos_label=0)\n",
    "    metrics[\"MCC\"] = matthews_corrcoef(prediction, y[test_windows_indices])\n",
    "\n",
    "    return metrics\n",
    "\n",
    "\n",
    "def cv_search(dataset,\n",
    "              record_to_ind,\n",
    "              estimator,\n",
    "              estimator_params_grid,\n",
    "              n_folds,\n",
    "              n_jobs=-1):\n",
    "\n",
    "    x, y = dataframe_to_numpy(dataset)\n",
    "\n",
    "    a = ['04015', '04126', '04936', '07879', '08405']\n",
    "    b = ['04043', '04048', '07859', '07910']\n",
    "    c = ['04746', '05261', '08215', '08378', '08455']\n",
    "    d = ['04908', '06426', '07162', '08219', '08434']\n",
    "    e = ['05091', '05121', '06453', '06995']\n",
    "    folds = [a, b, c, d, e]\n",
    "    results = dict()\n",
    "    params = dict()\n",
    "    for f in tqdm(range(n_folds)):\n",
    "        test_fold = folds[f]\n",
    "        train_folds = [folds[f-1], folds[f-2], folds[f-3], folds[f-4]]\n",
    "\n",
    "        record_cv_splitter = windows_cv_iter(\n",
    "            record_to_ind, n_folds, train_folds)\n",
    "\n",
    "        random_search = GridSearchCV(\n",
    "            estimator,\n",
    "            param_grid=estimator_params_grid,\n",
    "            n_jobs=n_jobs,\n",
    "            scoring='roc_auc',\n",
    "            cv=record_cv_splitter,\n",
    "            verbose=3,\n",
    "            refit=True\n",
    "        )\n",
    "\n",
    "        random_search.fit(x, y)\n",
    "\n",
    "        test_scores = evaluate_estmator(random_search, x, y, test_fold, record_to_ind)\n",
    "        results['fold' + str(f)] = test_scores\n",
    "        params['fold' + str(f)] = random_search.best_estimator_\n",
    "\n",
    "    return params, results"
   ]
  },
  {
   "cell_type": "code",
   "execution_count": 374,
   "id": "fa8ecc42",
   "metadata": {},
   "outputs": [],
   "source": [
    "with open(r'params.yml') as file:\n",
    "    params_list = yaml.load(file, Loader=yaml.FullLoader)\n",
    "est_params = params_list[\"est_params\"]"
   ]
  },
  {
   "cell_type": "code",
   "execution_count": 375,
   "id": "70d02c2e",
   "metadata": {},
   "outputs": [
    {
     "data": {
      "application/vnd.jupyter.widget-view+json": {
       "model_id": "5e883ae892a440e18e794906b15ba201",
       "version_major": 2,
       "version_minor": 0
      },
      "text/plain": [
       "  0%|          | 0/5 [00:00<?, ?it/s]"
      ]
     },
     "metadata": {},
     "output_type": "display_data"
    },
    {
     "data": {
      "application/vnd.jupyter.widget-view+json": {
       "model_id": "f0933dfb96d44a6f8c6eb289f15d4124",
       "version_major": 2,
       "version_minor": 0
      },
      "text/plain": [
       "  0%|          | 0/4 [00:00<?, ?it/s]"
      ]
     },
     "metadata": {},
     "output_type": "display_data"
    },
    {
     "name": "stdout",
     "output_type": "stream",
     "text": [
      "Fitting 4 folds for each of 1 candidates, totalling 4 fits\n"
     ]
    },
    {
     "name": "stderr",
     "output_type": "stream",
     "text": [
      "<ipython-input-373-333764cce4b2>:40: DeprecationWarning: `np.int` is a deprecated alias for the builtin `int`. To silence this warning, use `int` by itself. Doing this will not modify any behavior and is safe. When replacing `np.int`, you may wish to use e.g. `np.int64` or `np.int32` to specify the precision. If you wish to review your current use, check the release note link for additional information.\n",
      "Deprecated in NumPy 1.20; for more details and guidance: https://numpy.org/devdocs/release/1.20.0-notes.html#deprecations\n",
      "  metrics['auc'] = roc_auc_score(np.array(y[test_windows_indices], dtype=np.int),\n"
     ]
    },
    {
     "data": {
      "application/vnd.jupyter.widget-view+json": {
       "model_id": "75a0be70e1a54b638f4d5db9637a2184",
       "version_major": 2,
       "version_minor": 0
      },
      "text/plain": [
       "  0%|          | 0/4 [00:00<?, ?it/s]"
      ]
     },
     "metadata": {},
     "output_type": "display_data"
    },
    {
     "name": "stdout",
     "output_type": "stream",
     "text": [
      "Fitting 4 folds for each of 1 candidates, totalling 4 fits\n"
     ]
    },
    {
     "name": "stderr",
     "output_type": "stream",
     "text": [
      "<ipython-input-373-333764cce4b2>:40: DeprecationWarning: `np.int` is a deprecated alias for the builtin `int`. To silence this warning, use `int` by itself. Doing this will not modify any behavior and is safe. When replacing `np.int`, you may wish to use e.g. `np.int64` or `np.int32` to specify the precision. If you wish to review your current use, check the release note link for additional information.\n",
      "Deprecated in NumPy 1.20; for more details and guidance: https://numpy.org/devdocs/release/1.20.0-notes.html#deprecations\n",
      "  metrics['auc'] = roc_auc_score(np.array(y[test_windows_indices], dtype=np.int),\n"
     ]
    },
    {
     "data": {
      "application/vnd.jupyter.widget-view+json": {
       "model_id": "0a1d1bc0cb4d45438e8bb83c477bb37c",
       "version_major": 2,
       "version_minor": 0
      },
      "text/plain": [
       "  0%|          | 0/4 [00:00<?, ?it/s]"
      ]
     },
     "metadata": {},
     "output_type": "display_data"
    },
    {
     "name": "stdout",
     "output_type": "stream",
     "text": [
      "Fitting 4 folds for each of 1 candidates, totalling 4 fits\n"
     ]
    },
    {
     "name": "stderr",
     "output_type": "stream",
     "text": [
      "<ipython-input-373-333764cce4b2>:40: DeprecationWarning: `np.int` is a deprecated alias for the builtin `int`. To silence this warning, use `int` by itself. Doing this will not modify any behavior and is safe. When replacing `np.int`, you may wish to use e.g. `np.int64` or `np.int32` to specify the precision. If you wish to review your current use, check the release note link for additional information.\n",
      "Deprecated in NumPy 1.20; for more details and guidance: https://numpy.org/devdocs/release/1.20.0-notes.html#deprecations\n",
      "  metrics['auc'] = roc_auc_score(np.array(y[test_windows_indices], dtype=np.int),\n"
     ]
    },
    {
     "data": {
      "application/vnd.jupyter.widget-view+json": {
       "model_id": "3f57b29dcea04539a3d77e8e6a6f5f8d",
       "version_major": 2,
       "version_minor": 0
      },
      "text/plain": [
       "  0%|          | 0/4 [00:00<?, ?it/s]"
      ]
     },
     "metadata": {},
     "output_type": "display_data"
    },
    {
     "name": "stdout",
     "output_type": "stream",
     "text": [
      "Fitting 4 folds for each of 1 candidates, totalling 4 fits\n"
     ]
    },
    {
     "name": "stderr",
     "output_type": "stream",
     "text": [
      "<ipython-input-373-333764cce4b2>:40: DeprecationWarning: `np.int` is a deprecated alias for the builtin `int`. To silence this warning, use `int` by itself. Doing this will not modify any behavior and is safe. When replacing `np.int`, you may wish to use e.g. `np.int64` or `np.int32` to specify the precision. If you wish to review your current use, check the release note link for additional information.\n",
      "Deprecated in NumPy 1.20; for more details and guidance: https://numpy.org/devdocs/release/1.20.0-notes.html#deprecations\n",
      "  metrics['auc'] = roc_auc_score(np.array(y[test_windows_indices], dtype=np.int),\n"
     ]
    },
    {
     "data": {
      "application/vnd.jupyter.widget-view+json": {
       "model_id": "400ec54c63fd4ba29e2ce68fe54f7152",
       "version_major": 2,
       "version_minor": 0
      },
      "text/plain": [
       "  0%|          | 0/4 [00:00<?, ?it/s]"
      ]
     },
     "metadata": {},
     "output_type": "display_data"
    },
    {
     "name": "stdout",
     "output_type": "stream",
     "text": [
      "Fitting 4 folds for each of 1 candidates, totalling 4 fits\n"
     ]
    },
    {
     "name": "stderr",
     "output_type": "stream",
     "text": [
      "<ipython-input-373-333764cce4b2>:40: DeprecationWarning: `np.int` is a deprecated alias for the builtin `int`. To silence this warning, use `int` by itself. Doing this will not modify any behavior and is safe. When replacing `np.int`, you may wish to use e.g. `np.int64` or `np.int32` to specify the precision. If you wish to review your current use, check the release note link for additional information.\n",
      "Deprecated in NumPy 1.20; for more details and guidance: https://numpy.org/devdocs/release/1.20.0-notes.html#deprecations\n",
      "  metrics['auc'] = roc_auc_score(np.array(y[test_windows_indices], dtype=np.int),\n"
     ]
    }
   ],
   "source": [
    "params, results = cv_search(\n",
    "    imbalanced_dataset,\n",
    "    record_to_ind,\n",
    "    XGBClassifier(),\n",
    "    est_params,\n",
    "    5\n",
    ")"
   ]
  },
  {
   "cell_type": "code",
   "execution_count": 377,
   "id": "9408cf54",
   "metadata": {},
   "outputs": [
    {
     "data": {
      "text/plain": [
       "{'fold0': {'auc': 0.9999116507269667,\n",
       "  'sensitivity': 0.9964871194379391,\n",
       "  'accuracy': 0.9990727896619698,\n",
       "  'specificity': 0.9991220760669007,\n",
       "  'MCC': 0.9754784685391004},\n",
       " 'fold1': {'auc': 0.9999493930044322,\n",
       "  'sensitivity': 0.9939831528279182,\n",
       "  'accuracy': 0.9991288522412648,\n",
       "  'specificity': 0.9992036892813076,\n",
       "  'MCC': 0.9701787163633999},\n",
       " 'fold2': {'auc': 0.9999798807779932,\n",
       "  'sensitivity': 0.9995824634655532,\n",
       "  'accuracy': 0.9993329239912371,\n",
       "  'specificity': 0.999328309811309,\n",
       "  'MCC': 0.9817712289117317},\n",
       " 'fold3': {'auc': 0.999818740914912,\n",
       "  'sensitivity': 0.984375,\n",
       "  'accuracy': 0.9991924311303876,\n",
       "  'specificity': 0.9993999590560297,\n",
       "  'MCC': 0.9708391934509137},\n",
       " 'fold4': {'auc': 0.9997104461017013,\n",
       "  'sensitivity': 0.9887096774193549,\n",
       "  'accuracy': 0.9990726377554462,\n",
       "  'specificity': 0.9991821155943293,\n",
       "  'MCC': 0.957097642923624}}"
      ]
     },
     "execution_count": 377,
     "metadata": {},
     "output_type": "execute_result"
    }
   ],
   "source": [
    "results"
   ]
  },
  {
   "cell_type": "markdown",
   "id": "bdaa8b7e",
   "metadata": {},
   "source": [
    "$$\\Huge{\\textbf{Борьба с имбалансом + эксперименты}}$$"
   ]
  },
  {
   "cell_type": "markdown",
   "id": "4f41b1e8",
   "metadata": {},
   "source": [
    "Несмотря на то, что качество на искуственно (и наивно) разбалансированном датасете едва отличается от качества на исходном, попробуем проверить несколько основных техник борьбы с имбалансом. В частности рассмотрим методы оверсэмплинга. Этот подход на первый взгляд кажется наиболее разумным, так как фактически позволяет свести несбалансированную задачу бинарной классификации записей ЭКГ молодых людей к уже эффективно решённой задачи классификации. Идея оверсэмплинга заключается в дублировании объектов минорного класса. Есть различные подходы к оверсэмплингу, мы в частности рассмотрим классический `SMOTE` и `ADASYN`. Оба метода реализованы в библиотеке `imblearn`."
   ]
  },
  {
   "cell_type": "code",
   "execution_count": 382,
   "id": "3ce2de72",
   "metadata": {},
   "outputs": [],
   "source": [
    "from imblearn.over_sampling import SMOTE\n",
    "from imblearn.over_sampling import ADASYN"
   ]
  },
  {
   "cell_type": "markdown",
   "id": "16c2b3f0",
   "metadata": {},
   "source": [
    "Суть метода `SMOTE` заключается в следующем: мы выбираем случайного кандидата среди $k$ ближайших соседей объекта минорного класса, и добавляем в выборку выпуклую комбинацию со случайными коэффициентами."
   ]
  },
  {
   "cell_type": "code",
   "execution_count": 386,
   "id": "6f16207e",
   "metadata": {},
   "outputs": [],
   "source": [
    "def smote_cv_search(dataset,\n",
    "              record_to_ind,\n",
    "              estimator,\n",
    "              estimator_params_grid,\n",
    "              n_folds,\n",
    "              n_jobs=-1):\n",
    "\n",
    "    x, y = dataframe_to_numpy(dataset)\n",
    "\n",
    "    a = ['04015', '04126', '04936', '07879', '08405']\n",
    "    b = ['04043', '04048', '07859', '07910']\n",
    "    c = ['04746', '05261', '08215', '08378', '08455']\n",
    "    d = ['04908', '06426', '07162', '08219', '08434']\n",
    "    e = ['05091', '05121', '06453', '06995']\n",
    "    folds = [a, b, c, d, e]\n",
    "    results = dict()\n",
    "    params = dict()\n",
    "    for f in tqdm(range(n_folds)):\n",
    "        test_fold = folds[f]\n",
    "        train_folds = [folds[f-1], folds[f-2], folds[f-3], folds[f-4]]\n",
    "\n",
    "        record_cv_splitter = windows_cv_iter(\n",
    "            record_to_ind, n_folds, train_folds)\n",
    "\n",
    "        random_search = GridSearchCV(\n",
    "            estimator,\n",
    "            param_grid=estimator_params_grid,\n",
    "            n_jobs=n_jobs,\n",
    "            scoring='roc_auc',\n",
    "            cv=record_cv_splitter,\n",
    "            verbose=3,\n",
    "            refit=True\n",
    "        )\n",
    "\n",
    "        sm = SMOTE(sampling_strategy=0.1, random_state=42)\n",
    "        X_train_resampled, y_train_resampled = sm.fit_resample(x, y)\n",
    "\n",
    "        sm_model = random_search.fit(X_train_resampled, y_train_resampled)\n",
    "\n",
    "        test_scores = evaluate_estmator(random_search, x, y, test_fold, record_to_ind)\n",
    "        results['fold' + str(f)] = test_scores\n",
    "        params['fold' + str(f)] = random_search.best_estimator_\n",
    "\n",
    "    return params, results"
   ]
  },
  {
   "cell_type": "code",
   "execution_count": 387,
   "id": "733837cd",
   "metadata": {},
   "outputs": [
    {
     "data": {
      "application/vnd.jupyter.widget-view+json": {
       "model_id": "07c01216572449feb78c931a832d6cef",
       "version_major": 2,
       "version_minor": 0
      },
      "text/plain": [
       "  0%|          | 0/5 [00:00<?, ?it/s]"
      ]
     },
     "metadata": {},
     "output_type": "display_data"
    },
    {
     "data": {
      "application/vnd.jupyter.widget-view+json": {
       "model_id": "90e0d2d44b7b4647b0650060a6a06550",
       "version_major": 2,
       "version_minor": 0
      },
      "text/plain": [
       "  0%|          | 0/4 [00:00<?, ?it/s]"
      ]
     },
     "metadata": {},
     "output_type": "display_data"
    },
    {
     "name": "stdout",
     "output_type": "stream",
     "text": [
      "Fitting 4 folds for each of 1 candidates, totalling 4 fits\n"
     ]
    },
    {
     "name": "stderr",
     "output_type": "stream",
     "text": [
      "<ipython-input-373-333764cce4b2>:40: DeprecationWarning: `np.int` is a deprecated alias for the builtin `int`. To silence this warning, use `int` by itself. Doing this will not modify any behavior and is safe. When replacing `np.int`, you may wish to use e.g. `np.int64` or `np.int32` to specify the precision. If you wish to review your current use, check the release note link for additional information.\n",
      "Deprecated in NumPy 1.20; for more details and guidance: https://numpy.org/devdocs/release/1.20.0-notes.html#deprecations\n",
      "  metrics['auc'] = roc_auc_score(np.array(y[test_windows_indices], dtype=np.int),\n"
     ]
    },
    {
     "data": {
      "application/vnd.jupyter.widget-view+json": {
       "model_id": "c69b1d06c5f54c6285068bede91603b6",
       "version_major": 2,
       "version_minor": 0
      },
      "text/plain": [
       "  0%|          | 0/4 [00:00<?, ?it/s]"
      ]
     },
     "metadata": {},
     "output_type": "display_data"
    },
    {
     "name": "stdout",
     "output_type": "stream",
     "text": [
      "Fitting 4 folds for each of 1 candidates, totalling 4 fits\n"
     ]
    },
    {
     "name": "stderr",
     "output_type": "stream",
     "text": [
      "<ipython-input-373-333764cce4b2>:40: DeprecationWarning: `np.int` is a deprecated alias for the builtin `int`. To silence this warning, use `int` by itself. Doing this will not modify any behavior and is safe. When replacing `np.int`, you may wish to use e.g. `np.int64` or `np.int32` to specify the precision. If you wish to review your current use, check the release note link for additional information.\n",
      "Deprecated in NumPy 1.20; for more details and guidance: https://numpy.org/devdocs/release/1.20.0-notes.html#deprecations\n",
      "  metrics['auc'] = roc_auc_score(np.array(y[test_windows_indices], dtype=np.int),\n"
     ]
    },
    {
     "data": {
      "application/vnd.jupyter.widget-view+json": {
       "model_id": "bf9c27fcab7c4eb1bc7188e0b5650a8e",
       "version_major": 2,
       "version_minor": 0
      },
      "text/plain": [
       "  0%|          | 0/4 [00:00<?, ?it/s]"
      ]
     },
     "metadata": {},
     "output_type": "display_data"
    },
    {
     "name": "stdout",
     "output_type": "stream",
     "text": [
      "Fitting 4 folds for each of 1 candidates, totalling 4 fits\n"
     ]
    },
    {
     "name": "stderr",
     "output_type": "stream",
     "text": [
      "<ipython-input-373-333764cce4b2>:40: DeprecationWarning: `np.int` is a deprecated alias for the builtin `int`. To silence this warning, use `int` by itself. Doing this will not modify any behavior and is safe. When replacing `np.int`, you may wish to use e.g. `np.int64` or `np.int32` to specify the precision. If you wish to review your current use, check the release note link for additional information.\n",
      "Deprecated in NumPy 1.20; for more details and guidance: https://numpy.org/devdocs/release/1.20.0-notes.html#deprecations\n",
      "  metrics['auc'] = roc_auc_score(np.array(y[test_windows_indices], dtype=np.int),\n"
     ]
    },
    {
     "data": {
      "application/vnd.jupyter.widget-view+json": {
       "model_id": "e2515654a95c47af941911df0fccf99a",
       "version_major": 2,
       "version_minor": 0
      },
      "text/plain": [
       "  0%|          | 0/4 [00:00<?, ?it/s]"
      ]
     },
     "metadata": {},
     "output_type": "display_data"
    },
    {
     "name": "stdout",
     "output_type": "stream",
     "text": [
      "Fitting 4 folds for each of 1 candidates, totalling 4 fits\n"
     ]
    },
    {
     "name": "stderr",
     "output_type": "stream",
     "text": [
      "<ipython-input-373-333764cce4b2>:40: DeprecationWarning: `np.int` is a deprecated alias for the builtin `int`. To silence this warning, use `int` by itself. Doing this will not modify any behavior and is safe. When replacing `np.int`, you may wish to use e.g. `np.int64` or `np.int32` to specify the precision. If you wish to review your current use, check the release note link for additional information.\n",
      "Deprecated in NumPy 1.20; for more details and guidance: https://numpy.org/devdocs/release/1.20.0-notes.html#deprecations\n",
      "  metrics['auc'] = roc_auc_score(np.array(y[test_windows_indices], dtype=np.int),\n"
     ]
    },
    {
     "data": {
      "application/vnd.jupyter.widget-view+json": {
       "model_id": "1e4fddefc3c44327a20ac997cddc43c7",
       "version_major": 2,
       "version_minor": 0
      },
      "text/plain": [
       "  0%|          | 0/4 [00:00<?, ?it/s]"
      ]
     },
     "metadata": {},
     "output_type": "display_data"
    },
    {
     "name": "stdout",
     "output_type": "stream",
     "text": [
      "Fitting 4 folds for each of 1 candidates, totalling 4 fits\n"
     ]
    },
    {
     "name": "stderr",
     "output_type": "stream",
     "text": [
      "<ipython-input-373-333764cce4b2>:40: DeprecationWarning: `np.int` is a deprecated alias for the builtin `int`. To silence this warning, use `int` by itself. Doing this will not modify any behavior and is safe. When replacing `np.int`, you may wish to use e.g. `np.int64` or `np.int32` to specify the precision. If you wish to review your current use, check the release note link for additional information.\n",
      "Deprecated in NumPy 1.20; for more details and guidance: https://numpy.org/devdocs/release/1.20.0-notes.html#deprecations\n",
      "  metrics['auc'] = roc_auc_score(np.array(y[test_windows_indices], dtype=np.int),\n"
     ]
    }
   ],
   "source": [
    "sm_params, sm_results = smote_cv_search(\n",
    "    imbalanced_dataset,\n",
    "    record_to_ind,\n",
    "    XGBClassifier(),\n",
    "    est_params,\n",
    "    5\n",
    ")"
   ]
  },
  {
   "cell_type": "code",
   "execution_count": 390,
   "id": "c5c8790c",
   "metadata": {},
   "outputs": [
    {
     "data": {
      "text/plain": [
       "{'fold0': {'auc': 0.9997325491431193,\n",
       "  'sensitivity': 0.9639909977494373,\n",
       "  'accuracy': 0.9985617288457327,\n",
       "  'specificity': 0.9992479747438646,\n",
       "  'MCC': 0.9623548925977937},\n",
       " 'fold1': {'auc': 0.9998747159090168,\n",
       "  'sensitivity': 0.9571428571428572,\n",
       "  'accuracy': 0.9987665927772363,\n",
       "  'specificity': 0.9994044960547863,\n",
       "  'MCC': 0.9584368298483172},\n",
       " 'fold2': {'auc': 0.9999349091320834,\n",
       "  'sensitivity': 0.9865470852017937,\n",
       "  'accuracy': 0.9992874415360942,\n",
       "  'specificity': 0.9995288338250969,\n",
       "  'MCC': 0.9806018610665751},\n",
       " 'fold3': {'auc': 0.9996539725290524,\n",
       "  'sensitivity': 0.8952380952380953,\n",
       "  'accuracy': 0.9979462688229683,\n",
       "  'specificity': 0.9995474985152295,\n",
       "  'MCC': 0.9301756058416515},\n",
       " 'fold4': {'auc': 0.9996510249649516,\n",
       "  'sensitivity': 0.8788732394366198,\n",
       "  'accuracy': 0.9979260807985432,\n",
       "  'specificity': 0.9993685791323936,\n",
       "  'MCC': 0.9098316772020417}}"
      ]
     },
     "execution_count": 390,
     "metadata": {},
     "output_type": "execute_result"
    }
   ],
   "source": [
    "sm_results"
   ]
  },
  {
   "cell_type": "markdown",
   "id": "f86036d2",
   "metadata": {},
   "source": [
    "В методе `ADASYN` используется взвешенное распределение для разных объектов минорного класса (в зависимости от уровня трудности обучения объекта) и 'дублируются' (=генерируются похожие) больше именно те объекты минорного класса, которые представляют бОльшую сложность."
   ]
  },
  {
   "cell_type": "code",
   "execution_count": 391,
   "id": "776d3a93",
   "metadata": {},
   "outputs": [],
   "source": [
    "def ada_cv_search(dataset,\n",
    "              record_to_ind,\n",
    "              estimator,\n",
    "              estimator_params_grid,\n",
    "              n_folds,\n",
    "              n_jobs=-1):\n",
    "\n",
    "    x, y = dataframe_to_numpy(dataset)\n",
    "\n",
    "    a = ['04015', '04126', '04936', '07879', '08405']\n",
    "    b = ['04043', '04048', '07859', '07910']\n",
    "    c = ['04746', '05261', '08215', '08378', '08455']\n",
    "    d = ['04908', '06426', '07162', '08219', '08434']\n",
    "    e = ['05091', '05121', '06453', '06995']\n",
    "    folds = [a, b, c, d, e]\n",
    "    results = dict()\n",
    "    params = dict()\n",
    "    for f in tqdm(range(n_folds)):\n",
    "        test_fold = folds[f]\n",
    "        train_folds = [folds[f-1], folds[f-2], folds[f-3], folds[f-4]]\n",
    "\n",
    "        record_cv_splitter = windows_cv_iter(\n",
    "            record_to_ind, n_folds, train_folds)\n",
    "\n",
    "        random_search = GridSearchCV(\n",
    "            estimator,\n",
    "            param_grid=estimator_params_grid,\n",
    "            n_jobs=n_jobs,\n",
    "            scoring='roc_auc',\n",
    "            cv=record_cv_splitter,\n",
    "            verbose=3,\n",
    "            refit=True\n",
    "        )\n",
    "        \n",
    "        ada = ADASYN(random_state=42)\n",
    "        X_train_resampled, y_train_resampled = ada.fit_resample(x, y)\n",
    "\n",
    "        ada_model = random_search.fit(X_train_resampled, y_train_resampled)\n",
    "\n",
    "        test_scores = evaluate_estmator(ada_model, x, y, test_fold, record_to_ind)\n",
    "        results['fold' + str(f)] = test_scores\n",
    "        params['fold' + str(f)] = random_search.best_estimator_\n",
    "\n",
    "    return params, results"
   ]
  },
  {
   "cell_type": "code",
   "execution_count": 392,
   "id": "f8ce734e",
   "metadata": {},
   "outputs": [
    {
     "data": {
      "application/vnd.jupyter.widget-view+json": {
       "model_id": "2c65e478d75e4acaa264b190bf035456",
       "version_major": 2,
       "version_minor": 0
      },
      "text/plain": [
       "  0%|          | 0/5 [00:00<?, ?it/s]"
      ]
     },
     "metadata": {},
     "output_type": "display_data"
    },
    {
     "data": {
      "application/vnd.jupyter.widget-view+json": {
       "model_id": "b0464909f49749fca26bef111d42c823",
       "version_major": 2,
       "version_minor": 0
      },
      "text/plain": [
       "  0%|          | 0/4 [00:00<?, ?it/s]"
      ]
     },
     "metadata": {},
     "output_type": "display_data"
    },
    {
     "name": "stdout",
     "output_type": "stream",
     "text": [
      "Fitting 4 folds for each of 1 candidates, totalling 4 fits\n"
     ]
    },
    {
     "name": "stderr",
     "output_type": "stream",
     "text": [
      "<ipython-input-373-333764cce4b2>:40: DeprecationWarning: `np.int` is a deprecated alias for the builtin `int`. To silence this warning, use `int` by itself. Doing this will not modify any behavior and is safe. When replacing `np.int`, you may wish to use e.g. `np.int64` or `np.int32` to specify the precision. If you wish to review your current use, check the release note link for additional information.\n",
      "Deprecated in NumPy 1.20; for more details and guidance: https://numpy.org/devdocs/release/1.20.0-notes.html#deprecations\n",
      "  metrics['auc'] = roc_auc_score(np.array(y[test_windows_indices], dtype=np.int),\n"
     ]
    },
    {
     "data": {
      "application/vnd.jupyter.widget-view+json": {
       "model_id": "07b351a39184441b87aafd40cedd464b",
       "version_major": 2,
       "version_minor": 0
      },
      "text/plain": [
       "  0%|          | 0/4 [00:00<?, ?it/s]"
      ]
     },
     "metadata": {},
     "output_type": "display_data"
    },
    {
     "name": "stdout",
     "output_type": "stream",
     "text": [
      "Fitting 4 folds for each of 1 candidates, totalling 4 fits\n"
     ]
    },
    {
     "name": "stderr",
     "output_type": "stream",
     "text": [
      "<ipython-input-373-333764cce4b2>:40: DeprecationWarning: `np.int` is a deprecated alias for the builtin `int`. To silence this warning, use `int` by itself. Doing this will not modify any behavior and is safe. When replacing `np.int`, you may wish to use e.g. `np.int64` or `np.int32` to specify the precision. If you wish to review your current use, check the release note link for additional information.\n",
      "Deprecated in NumPy 1.20; for more details and guidance: https://numpy.org/devdocs/release/1.20.0-notes.html#deprecations\n",
      "  metrics['auc'] = roc_auc_score(np.array(y[test_windows_indices], dtype=np.int),\n"
     ]
    },
    {
     "data": {
      "application/vnd.jupyter.widget-view+json": {
       "model_id": "d645a74b79414bc087472795c55604f6",
       "version_major": 2,
       "version_minor": 0
      },
      "text/plain": [
       "  0%|          | 0/4 [00:00<?, ?it/s]"
      ]
     },
     "metadata": {},
     "output_type": "display_data"
    },
    {
     "name": "stdout",
     "output_type": "stream",
     "text": [
      "Fitting 4 folds for each of 1 candidates, totalling 4 fits\n"
     ]
    },
    {
     "name": "stderr",
     "output_type": "stream",
     "text": [
      "<ipython-input-373-333764cce4b2>:40: DeprecationWarning: `np.int` is a deprecated alias for the builtin `int`. To silence this warning, use `int` by itself. Doing this will not modify any behavior and is safe. When replacing `np.int`, you may wish to use e.g. `np.int64` or `np.int32` to specify the precision. If you wish to review your current use, check the release note link for additional information.\n",
      "Deprecated in NumPy 1.20; for more details and guidance: https://numpy.org/devdocs/release/1.20.0-notes.html#deprecations\n",
      "  metrics['auc'] = roc_auc_score(np.array(y[test_windows_indices], dtype=np.int),\n"
     ]
    },
    {
     "data": {
      "application/vnd.jupyter.widget-view+json": {
       "model_id": "f64b55de949c4917a95ff62df1759034",
       "version_major": 2,
       "version_minor": 0
      },
      "text/plain": [
       "  0%|          | 0/4 [00:00<?, ?it/s]"
      ]
     },
     "metadata": {},
     "output_type": "display_data"
    },
    {
     "name": "stdout",
     "output_type": "stream",
     "text": [
      "Fitting 4 folds for each of 1 candidates, totalling 4 fits\n"
     ]
    },
    {
     "name": "stderr",
     "output_type": "stream",
     "text": [
      "<ipython-input-373-333764cce4b2>:40: DeprecationWarning: `np.int` is a deprecated alias for the builtin `int`. To silence this warning, use `int` by itself. Doing this will not modify any behavior and is safe. When replacing `np.int`, you may wish to use e.g. `np.int64` or `np.int32` to specify the precision. If you wish to review your current use, check the release note link for additional information.\n",
      "Deprecated in NumPy 1.20; for more details and guidance: https://numpy.org/devdocs/release/1.20.0-notes.html#deprecations\n",
      "  metrics['auc'] = roc_auc_score(np.array(y[test_windows_indices], dtype=np.int),\n"
     ]
    },
    {
     "data": {
      "application/vnd.jupyter.widget-view+json": {
       "model_id": "50ac610cc3a94f7ca2a7414b4d277b9d",
       "version_major": 2,
       "version_minor": 0
      },
      "text/plain": [
       "  0%|          | 0/4 [00:00<?, ?it/s]"
      ]
     },
     "metadata": {},
     "output_type": "display_data"
    },
    {
     "name": "stdout",
     "output_type": "stream",
     "text": [
      "Fitting 4 folds for each of 1 candidates, totalling 4 fits\n"
     ]
    },
    {
     "name": "stderr",
     "output_type": "stream",
     "text": [
      "<ipython-input-373-333764cce4b2>:40: DeprecationWarning: `np.int` is a deprecated alias for the builtin `int`. To silence this warning, use `int` by itself. Doing this will not modify any behavior and is safe. When replacing `np.int`, you may wish to use e.g. `np.int64` or `np.int32` to specify the precision. If you wish to review your current use, check the release note link for additional information.\n",
      "Deprecated in NumPy 1.20; for more details and guidance: https://numpy.org/devdocs/release/1.20.0-notes.html#deprecations\n",
      "  metrics['auc'] = roc_auc_score(np.array(y[test_windows_indices], dtype=np.int),\n"
     ]
    }
   ],
   "source": [
    "ada_params, ada_results = ada_cv_search(\n",
    "    imbalanced_dataset,\n",
    "    record_to_ind,\n",
    "    XGBClassifier(),\n",
    "    est_params,\n",
    "    5\n",
    ")"
   ]
  },
  {
   "cell_type": "code",
   "execution_count": 393,
   "id": "929448a7",
   "metadata": {},
   "outputs": [
    {
     "data": {
      "text/plain": [
       "{'fold0': {'auc': 0.9994820254850854,\n",
       "  'sensitivity': 0.7257488320967299,\n",
       "  'accuracy': 0.9924947068701175,\n",
       "  'specificity': 0.9997749960624311,\n",
       "  'MCC': 0.843791105147861},\n",
       " 'fold1': {'auc': 0.9997051550929327,\n",
       "  'sensitivity': 0.8548548548548549,\n",
       "  'accuracy': 0.9971968017664461,\n",
       "  'specificity': 0.9996928234788179,\n",
       "  'MCC': 0.9139026031928364},\n",
       " 'fold2': {'auc': 0.9998667634805748,\n",
       "  'sensitivity': 0.8750444998220007,\n",
       "  'accuracy': 0.9971649269627575,\n",
       "  'specificity': 0.9998218573309581,\n",
       "  'MCC': 0.9297222985079456},\n",
       " 'fold3': {'auc': 0.9992176256474332,\n",
       "  'sensitivity': 0.6637988087359364,\n",
       "  'accuracy': 0.9927040329710877,\n",
       "  'specificity': 0.9997724347349931,\n",
       "  'MCC': 0.8052272669162973},\n",
       " 'fold4': {'auc': 0.9990418648026874,\n",
       "  'sensitivity': 0.5838255338482508,\n",
       "  'accuracy': 0.9919656707358198,\n",
       "  'specificity': 0.999682171541468,\n",
       "  'MCC': 0.7500797861626566}}"
      ]
     },
     "execution_count": 393,
     "metadata": {},
     "output_type": "execute_result"
    }
   ],
   "source": [
    "ada_results"
   ]
  },
  {
   "cell_type": "markdown",
   "id": "e153bfdb",
   "metadata": {},
   "source": [
    "В библиотеке `imblearn` представлены и другие методы, заслуживающие внимания. Например, `SVM-SMOTE`, в котором пограничные объекты минорного класса генерируются вдоль разделяющей гиперплоскости (=границы между мажорным и минорным классами), которая строится SVM-классификатором, обученном на оригинальной обучающей выборке. Но наибольший интерес, согласно результатам Никиты Михайловича, представляла бы модификация `SMOTE`, основанная на бустинге. К сожалению, `SVM-Boost` на данный момент не реализован, поэтому в данный работе он не будет рассматриваться. Посмотрим сравнение эффективности оригинального алгоритма и оверсэмплинга на синтетически несбалансированном датасете:"
   ]
  },
  {
   "cell_type": "code",
   "execution_count": 424,
   "id": "777a1d8f",
   "metadata": {},
   "outputs": [],
   "source": [
    "plt.rcParams['figure.figsize'] = (15, 10)\n",
    "methods = [results, sm_results, ada_results]\n",
    "range_axis = [int(i) for i in range(5)]\n",
    "folds = ['fold0', 'fold1', 'fold2', 'fold3', 'fold4']\n",
    "metrics = ['auc', 'sensitivity', 'accuracy', 'specificity', 'MCC']\n",
    "colors = ['DarkOrchid', 'LimeGreen', 'Turquoise', 'Red', 'Blue']\n",
    "titles = ['оригинальной модели', 'SMOTE', 'ADASYN']"
   ]
  },
  {
   "cell_type": "code",
   "execution_count": 425,
   "id": "5d98b19c",
   "metadata": {},
   "outputs": [
    {
     "data": {
      "image/png": "[encoded data removed]",
      "text/plain": [
       "<Figure size 1080x720 with 3 Axes>"
      ]
     },
     "metadata": {},
     "output_type": "display_data"
    }
   ],
   "source": [
    "for i in range(3):\n",
    "    plt.subplot(1, 3, i + 1)\n",
    "    for j in range(5):\n",
    "        plt.plot(range_axis, [methods[i][folds[k]][metrics[j]] for k in range(5)], color=colors[j], label=metrics[j])\n",
    "\n",
    "    plt.title('Качество ' + titles[i])\n",
    "    plt.xlabel('Номер фолда')\n",
    "    plt.ylabel('Значение метрик')\n",
    "\n",
    "    plt.legend()"
   ]
  },
  {
   "cell_type": "markdown",
   "id": "629795e2",
   "metadata": {},
   "source": [
    "По графикам видно, что значения метрик `auc`, `accuracy` и `specificity` почти не различаются между моделями. Однако, в моделях с оверсэмплингом значение `sensitivity` ниже, чем в оригинальной, что в совокупности означает бОльший разрыв между метриками `sensitivity` и `specificity` в моделях с оверсэмплингом. Это плохой результат в рамках задачи несбалансированной классификации. Особенно велик разрыв между этими двумя метриками в методе `ADASYN`. Аналогично, сильно отстаёт и значение метрики `MCC` в моделе `ADASYN`. Модель `SMOTE` показала себя хуже оригинальной модели, но в целом с ней сопоставима, что наводит на мысли о том, что это может быть результатом неточной имитации несбалансированного датасета."
   ]
  },
  {
   "cell_type": "markdown",
   "id": "3d8fa62e",
   "metadata": {},
   "source": [
    "$$\\Huge{\\textbf{Выводы}}$$"
   ]
  },
  {
   "cell_type": "markdown",
   "id": "016924c2",
   "metadata": {},
   "source": [
    "Требуется проведение дополнительных экспериментов. В частности, план дальнейших действий примерно таков:\n",
    "\n",
    "1) Необходимо сгенерировать наиболее реалистичный несбалансированный синтетический датасет. Методы моделирования ЭКГ сигналов существуют.\n",
    "\n",
    "2) Есть смысл реализовать модель `SMOTEBoost` и эксперементировать с ней.\n",
    "\n",
    "3) Возможно, есть смысл проверить ещё несколько моделей, например, основанные на методе опорных векторов или адабусте."
   ]
  },
  {
   "cell_type": "markdown",
   "id": "f1df8594",
   "metadata": {},
   "source": [
    "Ниже приведены написанные мной шаблоны функций для обучения новых классификаторов (модифицированный код Никиты Михайловича, чтобы работали кастомные методы ресамплинга)"
   ]
  },
  {
   "cell_type": "code",
   "execution_count": 427,
   "id": "d54ed0e9",
   "metadata": {},
   "outputs": [],
   "source": [
    "# a function to fit an estimator\n",
    "\n",
    "def custom_cv_search(dataset,\n",
    "              record_to_ind,\n",
    "              estimator,\n",
    "              estimator_params_grid,\n",
    "              n_folds,\n",
    "              resampler=None,\n",
    "              resample_kwargs=None,\n",
    "              resample=False,\n",
    "              n_jobs=-1):\n",
    "    \n",
    "    #dataset - windows_to_dataframe output\n",
    "    #record_to_ind - windows_to_dataframe output\n",
    "    #estimator - custom estimator to fit\n",
    "    #estimator_params_grid\n",
    "    #resample - whether a resampling method is used (defaulf False)\n",
    "    #resampler (str) - name of a resampling method\n",
    "    #resample_kwargs - argsdict for a resampling method\n",
    "\n",
    "    x, y = dataframe_to_numpy(dataset)\n",
    "\n",
    "    a = ['04015', '04126', '04936', '07879', '08405']\n",
    "    b = ['04043', '04048', '07859', '07910']\n",
    "    c = ['04746', '05261', '08215', '08378', '08455']\n",
    "    d = ['04908', '06426', '07162', '08219', '08434']\n",
    "    e = ['05091', '05121', '06453', '06995']\n",
    "    folds = [a, b, c, d, e]\n",
    "    results = dict()\n",
    "    params = dict()\n",
    "    for f in tqdm(range(n_folds)):\n",
    "        test_fold = folds[f]\n",
    "        train_folds = [folds[f-1], folds[f-2], folds[f-3], folds[f-4]]\n",
    "\n",
    "        record_cv_splitter = windows_cv_iter(\n",
    "            record_to_ind, n_folds, train_folds)\n",
    "\n",
    "        random_search = GridSearchCV(\n",
    "            estimator,\n",
    "            param_grid=estimator_params_grid,\n",
    "            n_jobs=n_jobs,\n",
    "            scoring='roc_auc',\n",
    "            cv=record_cv_splitter,\n",
    "            verbose=3,\n",
    "            refit=True\n",
    "        )\n",
    "        \n",
    "        if resample or resampler is not None:\n",
    "            resampling = globals()[resampler](**resample_kwargs)\n",
    "            x_train_resampled, y_train_resampled = resampling.fit_resample(x, y)\n",
    "            resampled_model = random_search.fit(x_train_resampled, y_train_resampled)\n",
    "            test_scores = evaluate_estmator(resampled_model, x, y, test_fold, record_to_ind)\n",
    "        else:\n",
    "            random_search.fit(x, y)\n",
    "            test_scores = evaluate_estmator(random_search, x, y, test_fold, record_to_ind)\n",
    "\n",
    "        results['fold' + str(f)] = test_scores\n",
    "        params['fold' + str(f)] = random_search.best_estimator_\n",
    "\n",
    "    return params, results"
   ]
  }
 ],
 "metadata": {
  "kernelspec": {
   "display_name": "Python 3",
   "language": "python",
   "name": "python3"
  },
  "language_info": {
   "codemirror_mode": {
    "name": "ipython",
    "version": 3
   },
   "file_extension": ".py",
   "mimetype": "text/x-python",
   "name": "python",
   "nbconvert_exporter": "python",
   "pygments_lexer": "ipython3",
   "version": "3.9.4"
  }
 },
 "nbformat": 4,
 "nbformat_minor": 5
}
